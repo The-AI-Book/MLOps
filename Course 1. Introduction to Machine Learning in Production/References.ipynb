{
 "cells": [
  {
   "cell_type": "markdown",
   "metadata": {},
   "source": [
    "# References\n",
    "\n",
    "## Introduction to Machine Learning in Production\n",
    "This is a compilation of resources including URLs and papers appearing in lecture videos.\n",
    "\n",
    "Overall resources:\n",
    "\n",
    "Konstantinos, Katsiapis, Karmarkar, A., Altay, A., Zaks, A., Polyzotis, N., … Li, Z. (2020). Towards ML Engineering: A brief history of TensorFlow Extended (TFX). http://arxiv.org/abs/2010.02013 \n",
    "\n",
    "Paleyes, A., Urma, R.-G., & Lawrence, N. D. (2020). Challenges in deploying machine learning: A survey of case studies. http://arxiv.org/abs/2011.09926\n",
    "\n",
    "### Week 1: Overview of the ML Lifecycle and Deployment\n",
    "Concept and Data Drift\n",
    "\n",
    "Monitoring ML Models\n",
    "\n",
    "A Chat with Andrew on MLOps: From Model-centric to Data-centric AI\n",
    "\n",
    "Konstantinos, Katsiapis, Karmarkar, A., Altay, A., Zaks, A., Polyzotis, N., … Li, Z. (2020). Towards ML Engineering: A brief history of TensorFlow Extended (TFX). http://arxiv.org/abs/2010.02013 \n",
    "\n",
    "Paleyes, A., Urma, R.-G., & Lawrence, N. D. (2020). Challenges in deploying machine learning: A survey of case studies. http://arxiv.org/abs/2011.09926\n",
    "\n",
    "Sculley, D., Holt, G., Golovin, D., Davydov, E., & Phillips, T. (n.d.). Hidden technical debt in machine learning systems. Retrieved April 28, 2021, from Nips.cc \n",
    "\n",
    "https://papers.nips.cc/paper/2015/file/86df7dcfd896fcaf2674f757a2463eba-Paper.pdf\n",
    "\n",
    "### Week 2: Select and Train Model\n",
    "Establishing a baseline\n",
    "\n",
    "Error analysis\n",
    "\n",
    "Experiment tracking\n",
    "\n",
    "Brundage, M., Avin, S., Wang, J., Belfield, H., Krueger, G., Hadfield, G., … Anderljung, M. (n.d.). Toward trustworthy AI development: Mechanisms for supporting verifiable claims∗. Retrieved May 7, 2021 http://arxiv.org/abs/2004.07213v2\n",
    "\n",
    "Nakkiran, P., Kaplun, G., Bansal, Y., Yang, T., Barak, B., & Sutskever, I. (2019). Deep double descent: Where bigger models and more data hurt. Retrieved from http://arxiv.org/abs/1912.02292\n",
    "\n",
    "### Week 3: Data Definition and Baseline\n",
    "Label ambiguity\n",
    "\n",
    "https://arxiv.org/pdf/1706.06969.pdf\n",
    "\n",
    "Data pipelines\n",
    "\n",
    "Data lineage\n",
    "\n",
    "MLops\n",
    "\n",
    "Geirhos, R., Janssen, D. H. J., Schutt, H. H., Rauber, J., Bethge, M., & Wichmann, F. A. (n.d.). Comparing deep neural networks against humans: object recognition when the signal gets weaker∗. Retrieved May 7, 2021, from Arxiv.org website:\n",
    "\n",
    "\n",
    "\n",
    "\n"
   ]
  },
  {
   "cell_type": "code",
   "execution_count": null,
   "metadata": {},
   "outputs": [],
   "source": []
  }
 ],
 "metadata": {
  "kernelspec": {
   "display_name": "Python 3",
   "language": "python",
   "name": "python3"
  },
  "language_info": {
   "codemirror_mode": {
    "name": "ipython",
    "version": 3
   },
   "file_extension": ".py",
   "mimetype": "text/x-python",
   "name": "python",
   "nbconvert_exporter": "python",
   "pygments_lexer": "ipython3",
   "version": "3.7.3"
  }
 },
 "nbformat": 4,
 "nbformat_minor": 4
}
