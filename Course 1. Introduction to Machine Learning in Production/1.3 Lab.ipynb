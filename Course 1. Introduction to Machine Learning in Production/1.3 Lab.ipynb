{
 "cells": [
  {
   "cell_type": "markdown",
   "metadata": {},
   "source": [
    "# Ungraded Lab - Deploying a Deep Learning model\n",
    "---\n",
    "\n",
    "After studying the concepts behind deploying Deep Learning models, you might be eager to see how this is done in practice. For this, we have prepared an optional Ungraded Lab that will walk you through this process. \n",
    "\n",
    "The current version of the lab is meant to be run in your local computer, but we are also working on a Coursera-compatible version for learners who prefer to stay on the platform. We still encourage you to go through the local setup of the lab as it will introduce some key concepts that are very common within the ecosystem of model deployment such as Docker and managing Python Virtual Environments.\n",
    "\n",
    "To get started, visit the following link and follow the instructions there.\n",
    "\n",
    "Have fun deploying a Deep Learning model!\n",
    "\n",
    "Link:https://github.com/https-deeplearning-ai/machine-learning-engineering-for-production-public/tree/main/course1/week1-ungraded-lab\n"
   ]
  }
 ],
 "metadata": {
  "kernelspec": {
   "display_name": "Python 3",
   "language": "python",
   "name": "python3"
  },
  "language_info": {
   "codemirror_mode": {
    "name": "ipython",
    "version": 3
   },
   "file_extension": ".py",
   "mimetype": "text/x-python",
   "name": "python",
   "nbconvert_exporter": "python",
   "pygments_lexer": "ipython3",
   "version": "3.7.3"
  }
 },
 "nbformat": 4,
 "nbformat_minor": 4
}
