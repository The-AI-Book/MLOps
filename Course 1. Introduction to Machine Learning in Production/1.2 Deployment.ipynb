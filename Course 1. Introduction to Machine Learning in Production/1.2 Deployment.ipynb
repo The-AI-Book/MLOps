{
 "cells": [
  {
   "cell_type": "markdown",
   "metadata": {},
   "source": [
    "# Week 1. Deployment\n",
    "\n",
    "---\n"
   ]
  },
  {
   "cell_type": "markdown",
   "metadata": {},
   "source": [
    "## Concept drift and Data drift.\n",
    "\n",
    "---\n",
    "\n",
    "Speech recognition example: \n",
    "\n",
    "- Training set: Purchased data, historical user data with transcripts\n",
    "- Test set: Data from a few months ago\n",
    "\n",
    "How has the data changed?\n",
    "\n",
    "- You have to be capable of recognizing that your data changed and make a decision accordingly.\n",
    "\n",
    "When data changes, we might have **gradual changes**. However, we also might have **sudden shock**.\n",
    "\n",
    "- Detect and manage concept drift (the way relation between $X$ and $Y$ change) and data drift (the data distribution of the model changes).\n",
    "\n",
    "- After a system is deployed, monitoring and maintaining the system will help us handle any cases of concept drift or data drift.\n",
    "\n",
    "## Software engineering issues.\n",
    "\n",
    "---\n",
    "\n",
    "### Checklist of questions\n",
    "- Realtime or Batch predictions\n",
    "- Cloud vs. Edge/Browser\n",
    "- Compute resources (CPU/GPU/memory)\n",
    "- Latency, throughput (QPS, queries per second)\n",
    "- Logging\n",
    "- Security and privacy\n"
   ]
  },
  {
   "cell_type": "markdown",
   "metadata": {},
   "source": [
    "## Deployment patterns\n",
    "\n",
    "---\n",
    "\n",
    "1. New product / capability\n",
    "2. Automate /assist with manual task\n",
    "3. Replace previous ML system\n",
    "\n",
    "**Keys ideas**: \n",
    "- Gradual ramp up with monitoring (start with low traffic)\n",
    "- Rollback (return to the previous functional system)\n",
    "\n",
    "**Example:**\n",
    "- ML system shadows the human and runs in parallel\n",
    "- ML system's output not used for any decisiones during this phase\n",
    "\n",
    "\n",
    "### 1. Shallow Deployment\n",
    "---\n",
    "\n",
    "<img src = \"https://i.gyazo.com/bb84111903ea203fd3be8506f7d9d848.png\" width = \"500px\">\n",
    "\n",
    "### 2. Canaray deployment\n",
    "---\n",
    "\n",
    "<img src = \"https://i.gyazo.com/d1306162a792c36b8cb1290864db24aa.png\" width = \"500px\">\n",
    "\n",
    "- Roll out to small fraction (say 5%) of traffic initially\n",
    "- Monitor system and ramp up traffic gradually\n",
    "\n",
    "### 3. Blue green deployment\n",
    "---\n",
    "<img src = \"https://i.gyazo.com/e49aedf1bf2b9bdd4d171bd252d0ad08.png\" width = \"500px\">\n",
    "- Easy way to enable rollback\n"
   ]
  },
  {
   "cell_type": "markdown",
   "metadata": {},
   "source": [
    "### Degree of automation\n",
    "---\n",
    "<img src = \"https://i.gyazo.com/7d4337667760a43442285ea15e1f39a3.png\" width = \"500px\">\n"
   ]
  },
  {
   "cell_type": "markdown",
   "metadata": {},
   "source": [
    "## Monitoring\n",
    "\n",
    "---"
   ]
  },
  {
   "cell_type": "markdown",
   "metadata": {},
   "source": [
    "- Brainstorm the things that could go wrong\n",
    "- Brainstorm a few statistic/metrics that will detect the problem\n",
    "- It is ok to use many metrics initially and gradually remove the ones you find not useful"
   ]
  },
  {
   "cell_type": "markdown",
   "metadata": {},
   "source": [
    "### Examples of metrics to track\n",
    "\n",
    "---\n",
    "\n",
    "- **Software metrics:** Memory, compute, latency, throughput, server load\n",
    "- **Input metrics:** Avg input length, avg input volume, num missing values, avg image brightness\n",
    "- **Output metrics:** # times return \" \" (null), # times user redoes search, # times user switches to typing, CTR (Click to rate)\n",
    "\n",
    "<img src = \"https://i.gyazo.com/6da1ec04bcfddf8d6951ad516cc4b499.png\" width = \"600px\">\n",
    "\n",
    "- We should set thresholds for alarms\n",
    "- Adapt metrics and thresholds over time"
   ]
  },
  {
   "cell_type": "markdown",
   "metadata": {},
   "source": [
    "### Model maintenance\n",
    "\n",
    "---\n",
    "\n",
    "<img src = \"https://i.gyazo.com/0619eafd13eceb40d354cbcf85777c3f.png\" width = \"600px\">"
   ]
  },
  {
   "cell_type": "markdown",
   "metadata": {},
   "source": [
    "### Pipeline monitoring\n",
    "\n",
    "---\n",
    "\n",
    "You should monitor:\n",
    "\n",
    "- Software metrics\n",
    "- Input metrics\n",
    "- Output metrics\n",
    "\n",
    "How quickly do they change? \n",
    "\n",
    "- User data generally has slower drift\n",
    "- Enterprise data (B2B applications) can shift fast\n"
   ]
  }
 ],
 "metadata": {
  "kernelspec": {
   "display_name": "Python 3",
   "language": "python",
   "name": "python3"
  },
  "language_info": {
   "codemirror_mode": {
    "name": "ipython",
    "version": 3
   },
   "file_extension": ".py",
   "mimetype": "text/x-python",
   "name": "python",
   "nbconvert_exporter": "python",
   "pygments_lexer": "ipython3",
   "version": "3.7.3"
  }
 },
 "nbformat": 4,
 "nbformat_minor": 4
}
