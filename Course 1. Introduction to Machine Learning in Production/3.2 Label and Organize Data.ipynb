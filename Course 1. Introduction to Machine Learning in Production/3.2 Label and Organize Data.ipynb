{
 "cells": [
  {
   "cell_type": "markdown",
   "metadata": {},
   "source": [
    "# Week 3. Label and Organize Data\n",
    "\n",
    "---"
   ]
  },
  {
   "cell_type": "markdown",
   "metadata": {},
   "source": [
    "## How long should you spend obtaining data?"
   ]
  },
  {
   "cell_type": "markdown",
   "metadata": {},
   "source": [
    "<img src = \"https://i.gyazo.com/16ecbe3d369e6f6ee2ffd20bf83c44b3.png\" width = \"600px\">"
   ]
  },
  {
   "cell_type": "markdown",
   "metadata": {},
   "source": [
    "## Inventory\n",
    "\n",
    "<img src = \"https://i.gyazo.com/08a8fc2df6a223f53e963c6f17b662d2.png\" width = \"500px\">\n",
    "<img src = \"https://i.gyazo.com/848e2c6f1e91cc421da36d0ef85a560e.png\" width = \"600px\">\n",
    "\n",
    "- Dont't increase data by more than 10x at a time"
   ]
  },
  {
   "cell_type": "markdown",
   "metadata": {},
   "source": [
    "## Data pipeline\n",
    "\n",
    "- Data provenance: refers to where the data comes from.\n",
    "- Data Lineage: refers to the sequence of processing steps applied to it.\n",
    "\n",
    "<img src  =\"https://i.gyazo.com/2ee14cb6e688187d6f767e3f5ed9df43.png\" width = \"600px\">"
   ]
  },
  {
   "cell_type": "markdown",
   "metadata": {},
   "source": [
    "## Meta-data\n",
    "\n",
    "<img src = \"https://i.gyazo.com/335426c62b59a106e6e187843656864e.png\" width = \"600px\">"
   ]
  },
  {
   "cell_type": "markdown",
   "metadata": {},
   "source": [
    "## Balanced train/dev/test splits\n",
    "\n",
    "<img src = \"https://i.gyazo.com/2fbeeb44fe9ad9d564e9b8199514d52e.png\" width = \"600px\">"
   ]
  },
  {
   "cell_type": "code",
   "execution_count": null,
   "metadata": {},
   "outputs": [],
   "source": []
  }
 ],
 "metadata": {
  "kernelspec": {
   "display_name": "Python 3",
   "language": "python",
   "name": "python3"
  },
  "language_info": {
   "codemirror_mode": {
    "name": "ipython",
    "version": 3
   },
   "file_extension": ".py",
   "mimetype": "text/x-python",
   "name": "python",
   "nbconvert_exporter": "python",
   "pygments_lexer": "ipython3",
   "version": "3.7.3"
  }
 },
 "nbformat": 4,
 "nbformat_minor": 4
}
