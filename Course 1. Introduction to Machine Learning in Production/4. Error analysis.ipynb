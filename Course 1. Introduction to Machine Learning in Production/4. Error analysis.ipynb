{
 "cells": [
  {
   "cell_type": "markdown",
   "metadata": {},
   "source": [
    "# Error Analysis & Performing Auditing\n",
    "\n",
    "---"
   ]
  },
  {
   "cell_type": "markdown",
   "metadata": {},
   "source": [
    "<img src = \"https://i.gyazo.com/a0824ad43d634a9a7cef595cf7e22e1d.png\" width = \"500px\">"
   ]
  },
  {
   "cell_type": "markdown",
   "metadata": {},
   "source": [
    "## Useful metrics for each tag\n",
    "\n",
    "---\n",
    "\n",
    "- What fraction of errors has that tag?\n",
    "- Of all data with that tag, what fraction is misclassified?\n",
    "- What fractions of all the data has that tag?\n",
    "- How much room for improvement is there on data with that tag?"
   ]
  },
  {
   "cell_type": "markdown",
   "metadata": {},
   "source": [
    "## Prioritizing what to work on\n",
    "\n",
    "---\n",
    "<img src = \"https://i.gyazo.com/4f3fe59a3f16e36c1ee0ce5a0ef2907a.png\" width = \"500px\">\n",
    "\n",
    "Decide on most important categories to work on based on: \n",
    "- How much room for improvement there is.\n",
    "- How frequently that category appears.\n",
    "- How easy is to improve accuracy in that category.\n",
    "- How important it is to improve in that category."
   ]
  },
  {
   "cell_type": "markdown",
   "metadata": {},
   "source": [
    "## Adding/improving data for specific categories\n",
    "\n",
    "For categories you want to prioritize\n",
    "- Collect more data\n",
    "- Use data augmentation to get more data\n",
    "- Improve label accuracy/data quality"
   ]
  },
  {
   "cell_type": "markdown",
   "metadata": {},
   "source": [
    "## Skewed datasets"
   ]
  },
  {
   "cell_type": "markdown",
   "metadata": {},
   "source": [
    "## Auditing framework\n",
    "-\n",
    "Check for accuracy, fairness/bias, and other problems.\n",
    "1. Brainstorm the ways the sustem might go wrong.\n",
    "\n",
    "- Performance on subsets of data (e.g, ethnicity, gender)\n",
    "- How common are certain errors (e.g, FP, FN).\n",
    "- Performance on rare classes.\n",
    "\n",
    "2. Establish metrics to assess performance against there issues on appropriate slices of data\n"
   ]
  },
  {
   "cell_type": "code",
   "execution_count": null,
   "metadata": {},
   "outputs": [],
   "source": []
  }
 ],
 "metadata": {
  "kernelspec": {
   "display_name": "Python 3",
   "language": "python",
   "name": "python3"
  },
  "language_info": {
   "codemirror_mode": {
    "name": "ipython",
    "version": 3
   },
   "file_extension": ".py",
   "mimetype": "text/x-python",
   "name": "python",
   "nbconvert_exporter": "python",
   "pygments_lexer": "ipython3",
   "version": "3.7.3"
  }
 },
 "nbformat": 4,
 "nbformat_minor": 4
}
