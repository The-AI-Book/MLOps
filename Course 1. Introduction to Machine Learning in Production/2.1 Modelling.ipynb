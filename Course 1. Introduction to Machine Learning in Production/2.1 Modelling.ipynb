{
 "cells": [
  {
   "cell_type": "markdown",
   "metadata": {},
   "source": [
    "# Week 2. Modelling\n",
    "\n",
    "---\n",
    "\n",
    "- AI System = Code + Data\n",
    "- Model velopment is an iterative process\n",
    "\n",
    "1. Algorithm / Model\n",
    "2. Hyperparameteres\n",
    "3. Data\n",
    "\n",
    "Give as result a ML model.\n",
    "\n",
    "<img src = \"https://i.gyazo.com/efe58ffb31ca4b6f73ac3a3891032a78.png\" width = \"500px\">"
   ]
  },
  {
   "cell_type": "markdown",
   "metadata": {},
   "source": [
    "<img src = \"https://i.gyazo.com/16b6275851447a78699d6f18ced82bcd.png\" width = \"500px\">"
   ]
  },
  {
   "cell_type": "markdown",
   "metadata": {},
   "source": [
    "## Ways to establish a baseline\n",
    "\n",
    "---\n",
    "\n",
    "- Human level performance (HLP)\n",
    "- Literature search for state-of-the-art/open source\n",
    "- Quick-and-dirty implementation\n",
    "- Performance of older system\n",
    "\n",
    "Baseline helps to indicates what might be possible. In some cases (such as HLP) it also gives a sense of waht is irreducible error/Bayes error."
   ]
  },
  {
   "cell_type": "markdown",
   "metadata": {},
   "source": [
    "## Getting started on modeling \n",
    "\n",
    "---\n",
    "\n",
    "- Literature search to see what's possible (courses, blogs, open-source projects).\n",
    "- Find open-source implementations if available.\n",
    "- A reasonable algorithm with good data will often outperform a great algorithm with no so good data."
   ]
  },
  {
   "cell_type": "markdown",
   "metadata": {},
   "source": [
    "## Deployment constraints when picking a model\n",
    "\n",
    "---\n",
    "\n",
    "- Should you take into account deployment constraints when picking a model?\n",
    "- **Yes**, if baseline is already established and goal is to build and deploy.\n",
    "- **No**, if purpose is to establish a baseline and determine what is possible and might be worth pursuing."
   ]
  },
  {
   "cell_type": "markdown",
   "metadata": {},
   "source": [
    "## Sanity-check for code and algorithm\n",
    "\n",
    "---\n",
    "\n",
    "- Try to overfit a small training dataset before training on a large one."
   ]
  },
  {
   "cell_type": "code",
   "execution_count": null,
   "metadata": {},
   "outputs": [],
   "source": []
  }
 ],
 "metadata": {
  "kernelspec": {
   "display_name": "Python 3",
   "language": "python",
   "name": "python3"
  },
  "language_info": {
   "codemirror_mode": {
    "name": "ipython",
    "version": 3
   },
   "file_extension": ".py",
   "mimetype": "text/x-python",
   "name": "python",
   "nbconvert_exporter": "python",
   "pygments_lexer": "ipython3",
   "version": "3.7.3"
  }
 },
 "nbformat": 4,
 "nbformat_minor": 4
}
