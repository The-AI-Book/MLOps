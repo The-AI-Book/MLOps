{
 "cells": [
  {
   "cell_type": "markdown",
   "metadata": {},
   "source": [
    "# Week 1 Optional References\n",
    "\n",
    "## Week 1: Overview of the ML Lifecycle and Deployment\n",
    "---\n",
    "If you wish to dive more deeply into the topics covered this week, feel free to check out these optional references. You won’t have to read these to complete this week’s practice quizzes.\n",
    "\n",
    "<a href = \"https://towardsdatascience.com/machine-learning-in-production-why-you-should-care-about-data-and-concept-drift-d96d0bc907fb\">Concept and Data Drift</a>\n",
    "\n",
    "<a href = \"https://christophergs.com/machine%20learning/2020/03/14/how-to-monitor-machine-learning-models/\">Monitoring ML Models</a>\n",
    "\n",
    "<a href = \"https://www.youtube.com/watch?v=06-AZXmwHjo\">A Chat with Andrew on MLOps: From Model-centric to Data-centric</a>\n",
    "\n",
    "Papers\n",
    "\n",
    "Konstantinos, Katsiapis, Karmarkar, A., Altay, A., Zaks, A., Polyzotis, N., … Li, Z. (2020). Towards ML Engineering: A brief history of TensorFlow Extended (TFX). http://arxiv.org/abs/2010.02013 \n",
    "\n",
    "Paleyes, A., Urma, R.-G., & Lawrence, N. D. (2020). Challenges in deploying machine learning: A survey of case studies. http://arxiv.org/abs/2011.09926\n",
    "\n",
    "Sculley, D., Holt, G., Golovin, D., Davydov, E., & Phillips, T. (n.d.). Hidden technical debt in machine learning systems. Retrieved April 28, 2021, from Nips.c https://papers.nips.cc/paper/2015/file/86df7dcfd896fcaf2674f757a2463eba-Paper.pdf\n",
    "\n",
    "## Ungraded Lab - Deploying a Deep Learning model\n",
    "---\n",
    "After studying the concepts behind deploying Deep Learning models, you might be eager to see how this is done in practice. For this, we have prepared an optional Ungraded Lab that will walk you through this process. \n",
    "\n",
    "The current version of the lab is meant to be run in your local computer, but we are also working on a Coursera-compatible version for learners who prefer to stay on the platform. We still encourage you to go through the local setup of the lab as it will introduce some key concepts that are very common within the ecosystem of model deployment such as Docker and managing Python Virtual Environments.\n",
    "\n",
    "To get started, visit the following <a href = \"https://github.com/https-deeplearning-ai/machine-learning-engineering-for-production-public/tree/main/course1/week1-ungraded-lab\">link</a> and follow the instructions there.\n",
    "\n",
    "Have fun deploying a Deep Learning model!\n",
    "\n"
   ]
  },
  {
   "cell_type": "code",
   "execution_count": null,
   "metadata": {},
   "outputs": [],
   "source": []
  }
 ],
 "metadata": {
  "kernelspec": {
   "display_name": "Python 3",
   "language": "python",
   "name": "python3"
  },
  "language_info": {
   "codemirror_mode": {
    "name": "ipython",
    "version": 3
   },
   "file_extension": ".py",
   "mimetype": "text/x-python",
   "name": "python",
   "nbconvert_exporter": "python",
   "pygments_lexer": "ipython3",
   "version": "3.7.3"
  }
 },
 "nbformat": 4,
 "nbformat_minor": 4
}
