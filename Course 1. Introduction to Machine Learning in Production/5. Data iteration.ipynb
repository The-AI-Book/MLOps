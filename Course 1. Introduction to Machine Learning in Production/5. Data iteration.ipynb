{
 "cells": [
  {
   "cell_type": "markdown",
   "metadata": {},
   "source": [
    "# Data iteration\n",
    "---\n",
    "\n",
    "- Model-centric view: Take the data you have, and develop a model that does as well as possible on it, i.e, hold the data fixed and iteratively improve the code/model.\n",
    "- Data centric view: The quality of the data is paramount. Use tools ot improve that data quality; this will allow multiple models to do well, i.e, hold the code fixed and iteratively improve the data."
   ]
  },
  {
   "cell_type": "markdown",
   "metadata": {},
   "source": [
    "### Data augmentation\n",
    "\n",
    "---\n",
    "\n",
    "- **Goal:** Create realistic examples that (i) the algorithm does poorly on, but (ii) humans (or other baseline) do well on.\n",
    "\n",
    "- **Chechlist:**\n",
    "1. Does it sound realistic?\n",
    "2. Is the $x \\rightarrow y$ mapping clear? (e.g, can humans recognize speech?)\n",
    "3. Is the algorithm currently doing poorly on it?\n"
   ]
  },
  {
   "cell_type": "markdown",
   "metadata": {},
   "source": [
    "### Data iteration loop\n",
    "---\n",
    "\n",
    "- Add/improve Data (holding model fixed)\n",
    "- Training\n",
    "- Error analysis\n"
   ]
  },
  {
   "cell_type": "markdown",
   "metadata": {},
   "source": [
    "### Can adding data hurt performance ?\n",
    "\n",
    "---\n",
    "\n",
    "For unstructured data problems, if: \n",
    "- The model is large (low bias)\n",
    "- The mapping $x \\rightarrow y$ is clear (e.g, given only the input $x$, humans can make accurate predictions).\n",
    "\n",
    "Then, **adding data rarely hurts accuracy**."
   ]
  },
  {
   "cell_type": "markdown",
   "metadata": {},
   "source": [
    "### Photo OCR counterexample\n",
    "\n",
    "---\n",
    "\n",
    "<img src = \"https://i.gyazo.com/f2675d7ae2fbc6e0c67563a2442994ab.png\" width = \"500px\">"
   ]
  },
  {
   "cell_type": "markdown",
   "metadata": {},
   "source": [
    "### Structured data (adding features)\n",
    "\n",
    "---\n",
    "\n",
    "Vegetarians are frequenly recommended restaurants with only meat options.\n",
    "\n",
    "Possible features to add?\n",
    "- Is person vegetarian (based on past orders)?\n",
    "- Does restaurant have vegetarian optoins (based on menu)?\n",
    "\n",
    "<img src = \"https://i.gyazo.com/2abc15c57776f8534b05535d6225d57f.png\" width = \"500px\">"
   ]
  },
  {
   "cell_type": "markdown",
   "metadata": {},
   "source": [
    "### Experiment tracking \n",
    "\n",
    "---\n",
    "\n",
    "What to track?\n",
    "- Algorithm/code versioning\n",
    "- Dataset used\n",
    "- Hyperparameters\n",
    "-Resuls\n",
    "\n",
    "\n",
    "Tracking tools\n",
    "- Text files\n",
    "- Spreadsheet\n",
    "- Experiment tracking system\n",
    "\n",
    "Desirable features?\n",
    "- Information needed to replicate results\n",
    "- Experiment results, ideally with summary metrics/analysis\n",
    "- Perhaps also: Resource monitoring, visualization, model error analysis"
   ]
  },
  {
   "cell_type": "markdown",
   "metadata": {},
   "source": [
    "### From Big Data to Good Data\n",
    "\n",
    "---\n",
    "\n",
    "<img src = \"https://i.gyazo.com/452392683a71ea3fdc28e619e2a96e8b.png\" width = \"500px\">"
   ]
  },
  {
   "cell_type": "markdown",
   "metadata": {},
   "source": [
    "### Additionaly Resources\n",
    "\n",
    "---\n",
    "\n",
    "Week 2: Select and Train Model\n",
    "If you wish to dive more deeply into the topics covered this week, feel free to check out these optional references. You won’t have to read these to complete this week’s practice quizzes.\n",
    "\n",
    "Establishing a baseline\n",
    "\n",
    "Error analysis\n",
    "\n",
    "Experiment tracking\n",
    "\n",
    "Papers\n",
    "\n",
    "Brundage, M., Avin, S., Wang, J., Belfield, H., Krueger, G., Hadfield, G., … Anderljung, M. (n.d.). Toward trustworthy AI development: Mechanisms for supporting verifiable claims∗. Retrieved May 7, 2021http://arxiv.org/abs/2004.07213v2\n",
    "\n",
    "Nakkiran, P., Kaplun, G., Bansal, Y., Yang, T., Barak, B., & Sutskever, I. (2019). Deep double descent: Where bigger models and more data hurt. Retrieved from http://arxiv.org/abs/1912.02292"
   ]
  },
  {
   "cell_type": "code",
   "execution_count": null,
   "metadata": {},
   "outputs": [],
   "source": []
  }
 ],
 "metadata": {
  "kernelspec": {
   "display_name": "Python 3",
   "language": "python",
   "name": "python3"
  },
  "language_info": {
   "codemirror_mode": {
    "name": "ipython",
    "version": 3
   },
   "file_extension": ".py",
   "mimetype": "text/x-python",
   "name": "python",
   "nbconvert_exporter": "python",
   "pygments_lexer": "ipython3",
   "version": "3.7.3"
  }
 },
 "nbformat": 4,
 "nbformat_minor": 4
}
