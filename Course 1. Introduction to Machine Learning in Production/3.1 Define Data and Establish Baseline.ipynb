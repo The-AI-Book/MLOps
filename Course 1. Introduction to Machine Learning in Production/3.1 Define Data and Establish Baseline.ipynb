{
 "cells": [
  {
   "cell_type": "markdown",
   "metadata": {},
   "source": [
    "# Week 3. Define Data and Establish Baseline\n",
    "\n",
    "---\n",
    "\n",
    "<img src = \"https://i.gyazo.com/52c6fd8ad21a754c1dba3b9ae0f4e87e.png\">"
   ]
  },
  {
   "cell_type": "markdown",
   "metadata": {},
   "source": [
    "### Data definition questions\n",
    "- What is the input $x$?\n",
    "- Lighting? Contrast? Resoluion?"
   ]
  },
  {
   "cell_type": "markdown",
   "metadata": {},
   "source": [
    "<img src = \"https://i.gyazo.com/72fef55888ba626fefa52c6fe02a366b.png\" width = \"500px\">"
   ]
  },
  {
   "cell_type": "markdown",
   "metadata": {},
   "source": [
    "### Unstructured vs. structured data\n",
    "1. Unstructured data\n",
    "- May or may not have huge collection of unlabeled examples $x$.\n",
    "- Humans can label more data.\n",
    "- Data augmentation more likely to be helpful.\n",
    "\n",
    "2. Structured data\n",
    "- May be more difficult to obtain more data.\n",
    "- Human labeling may not be possible (with some exceptions)."
   ]
  },
  {
   "cell_type": "markdown",
   "metadata": {},
   "source": [
    "### Small data vs. big data\n",
    "\n",
    "1. Small data: \n",
    "- Clean labels are critical.\n",
    "- Can manually look through dataset and fix labels.\n",
    "- Can get all the labelers to talk to each other.\n",
    "\n",
    "2. Big data\n",
    "- Emphasis data process.\n"
   ]
  },
  {
   "cell_type": "markdown",
   "metadata": {},
   "source": [
    "### Why label consistency is important\n",
    "\n",
    "<img src = \"https://i.gyazo.com/f56209b7cad67d3ce600088596ee9acb.png\" width = \"600px\">\n",
    "<img src = \"https://i.gyazo.com/0ccac176b3df12c5f741356030267fa4.png\" width = \"600px\">\n",
    "\n"
   ]
  },
  {
   "cell_type": "markdown",
   "metadata": {},
   "source": [
    "### Big data problems can have small data challenges too\n",
    "\n",
    "Problems with a large dataset but where there's a **long tail** of rare events in the input will have small data challanges too.\n",
    "- Web search\n",
    "- Self-driving cars\n",
    "- Producto reommendation systems"
   ]
  },
  {
   "cell_type": "markdown",
   "metadata": {},
   "source": [
    "### Improving label consistency\n",
    "\n",
    "- Have multiple labeleres label same example\n",
    "- When there is a disagreement, have MLE, subject matter expert (SME) and/or labelers discuss definition of $y$ to reach agreement.\n",
    "- If labelers believe that $x$ doesnt't contain enough information, consider chaging $x$.\n",
    "- Iterate until it is hard to significantly increase agreement.\n",
    "\n",
    "<img src = \"https://i.gyazo.com/8608e4b0637ab0b60974f94e4fa25ca0.png\" width = \"600px\">\n",
    "<img src = \"https://i.gyazo.com/e492b384fa1912e52d1e63312f91b576.png\" width = \"600px\">"
   ]
  },
  {
   "cell_type": "markdown",
   "metadata": {},
   "source": [
    "### Small data vs. big data (unstructured data)\n",
    "\n",
    "Small data:\n",
    "- Usually small number of labelers.\n",
    "- Can ask labelers to discuss specific labels\n",
    "\n",
    "Big data\n",
    "- Get to consistent definition with a small group\n",
    "- Then send labeling instructions to labelers.\n",
    "- Can considere having multiple labelers label every example and using voting or consensus labels to increase accuracy."
   ]
  },
  {
   "cell_type": "markdown",
   "metadata": {},
   "source": [
    "## Human Level Performance\n",
    "\n",
    "Estimate Bayes error / irreducible error to help with error analysis and priorization (specially unstructured data)\n",
    "\n",
    "- It is helpful for establishing baseline in terms of what might be possible.\n",
    "- In academia, establish and beat a respectable benchmark to support publication.\n",
    "- Business or product owner asks for 99% accuracy. HLP helps establish a more reasonable target.\n",
    "- \"Prove\" the ML system is superior to humans doing the job and thus the business or producto owner should adopt it.\n",
    "\n",
    "<img src = \"https://i.gyazo.com/8caef9d7ad641ed9b88316eeeba2d4da.png\" width = \"600px\">"
   ]
  },
  {
   "cell_type": "markdown",
   "metadata": {},
   "source": [
    "## Raising HLP\n"
   ]
  },
  {
   "cell_type": "markdown",
   "metadata": {},
   "source": [
    "<img src = \"https://i.gyazo.com/08f956c14d796ac13d8d3816bf58012d.png\" width = \"600px\">\n",
    "<img src = \"https://i.gyazo.com/2d467fe21902a6b77a395bf5ffb11442.png\" width = \"600px\">"
   ]
  },
  {
   "cell_type": "code",
   "execution_count": null,
   "metadata": {},
   "outputs": [],
   "source": []
  }
 ],
 "metadata": {
  "kernelspec": {
   "display_name": "Python 3",
   "language": "python",
   "name": "python3"
  },
  "language_info": {
   "codemirror_mode": {
    "name": "ipython",
    "version": 3
   },
   "file_extension": ".py",
   "mimetype": "text/x-python",
   "name": "python",
   "nbconvert_exporter": "python",
   "pygments_lexer": "ipython3",
   "version": "3.7.3"
  }
 },
 "nbformat": 4,
 "nbformat_minor": 4
}
