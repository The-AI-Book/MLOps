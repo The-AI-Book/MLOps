{
 "cells": [
  {
   "cell_type": "markdown",
   "metadata": {},
   "source": [
    "# Week 3 Optional References\n",
    "## Week 3: Data Definition and Baseline\n",
    "If you wish to dive more deeply into the topics covered this week, feel free to check out these optional references. You won’t have to read these to complete this week’s practice quizzes.\n",
    "\n",
    "<a href = \"https://csgaobb.github.io/Projects/DLDL.html\">Label ambiguity</a>\n",
    "\n",
    "<a href =\"https://cs230.stanford.edu/blog/datapipeline/#best-practices\">Data pipelinesy</a>\n",
    "\n",
    "<a href =\"https://blog.tensorflow.org/2021/01/ml-metadata-version-control-for-ml.html\">Data lineagey</a>\n",
    "\n",
    "<a href =\"https://cloud.google.com/blog/products/ai-machine-learning/key-requirements-for-an-mlops-foundation\">MLops</a>\n",
    "\n",
    "Geirhos, R., Janssen, D. H. J., Schutt, H. H., Rauber, J., Bethge, M., & Wichmann, F. A. (n.d.). Comparing deep neural networks against humans: object recognition when the signal gets weaker∗. Retrieved May 7, 2021, from Arxiv.org website: https://arxiv.org/pdf/1706.06969.pdf\n",
    "\n"
   ]
  },
  {
   "cell_type": "code",
   "execution_count": null,
   "metadata": {},
   "outputs": [],
   "source": []
  }
 ],
 "metadata": {
  "kernelspec": {
   "display_name": "Python 3",
   "language": "python",
   "name": "python3"
  },
  "language_info": {
   "codemirror_mode": {
    "name": "ipython",
    "version": 3
   },
   "file_extension": ".py",
   "mimetype": "text/x-python",
   "name": "python",
   "nbconvert_exporter": "python",
   "pygments_lexer": "ipython3",
   "version": "3.7.3"
  }
 },
 "nbformat": 4,
 "nbformat_minor": 4
}
