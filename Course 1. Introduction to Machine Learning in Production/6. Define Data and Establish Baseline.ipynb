{
 "cells": [
  {
   "cell_type": "markdown",
   "metadata": {},
   "source": [
    "# Define Data and Establish Baseline\n",
    "\n",
    "---\n",
    "\n",
    "<img src = \"https://i.gyazo.com/52c6fd8ad21a754c1dba3b9ae0f4e87e.png\">"
   ]
  },
  {
   "cell_type": "markdown",
   "metadata": {},
   "source": [
    "### Data definition questions\n",
    "- What is the input $x$?\n",
    "- Lighting? Contrast? Resoluion?"
   ]
  },
  {
   "cell_type": "markdown",
   "metadata": {},
   "source": [
    "<img src = \"https://i.gyazo.com/72fef55888ba626fefa52c6fe02a366b.png\" width = \"500px\">"
   ]
  },
  {
   "cell_type": "markdown",
   "metadata": {},
   "source": [
    "### Unstructured vs. structured data\n",
    "1. Unstructured data\n",
    "- May or may not have huge collection of unlabeled examples $x$.\n",
    "- Humans can label more data.\n",
    "- Data augmentation more likely to be helpful.\n",
    "\n",
    "2. Structured data\n",
    "- May be more difficult to obtain more data.\n",
    "- Human labeling may not be possible (with some exceptions)."
   ]
  },
  {
   "cell_type": "markdown",
   "metadata": {},
   "source": [
    "### Small data vs. big data\n",
    "\n",
    "1. Small data: \n",
    "- Clean labels are critical.\n",
    "- Can manually look through dataset and fix labels.\n",
    "- Can get all the labelers to talk to each other.\n",
    "\n",
    "2. Big data\n",
    "- Emphasis data process.\n"
   ]
  },
  {
   "cell_type": "markdown",
   "metadata": {},
   "source": []
  }
 ],
 "metadata": {
  "kernelspec": {
   "display_name": "Python 3",
   "language": "python",
   "name": "python3"
  },
  "language_info": {
   "codemirror_mode": {
    "name": "ipython",
    "version": 3
   },
   "file_extension": ".py",
   "mimetype": "text/x-python",
   "name": "python",
   "nbconvert_exporter": "python",
   "pygments_lexer": "ipython3",
   "version": "3.7.3"
  }
 },
 "nbformat": 4,
 "nbformat_minor": 4
}
