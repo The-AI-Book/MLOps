{
 "cells": [
  {
   "cell_type": "markdown",
   "metadata": {},
   "source": [
    "# A journey through Data\n",
    "\n",
    "---\n",
    "\n",
    "Data is the hero behind many Deep Learning achievements and many times it is not given the credit it deserves. The paradigm behind Deep Learning is now facing a shift from model-centric to data-centric. In this ungraded lab you will get hands on experience working with data at various levels. In particular you will:\n",
    "\n",
    "- Manually move images around the filesystem so they are stored in a structure suitable for model training.\n",
    "\n",
    "- Clean up the dataset as it presents some corrupted images and other issues.\n",
    "\n",
    "- See how class imbalance negatively affects model evaluation.\n",
    "\n",
    "- Solve overfitting problems by using Data Augmentation techniques.\n",
    "\n",
    "All of this while using the same model architecture to showcase that a lot can be achieved by doing changes to the data and not the model.\n",
    "\n",
    "To get started, visit this link. You should be prompted directly to the notebook within Colab. Follow the instructions there to begin the lab.\n",
    "\n",
    "This lab gives you the option to either train the models from scratch (this might take up to 20 minutes per training with GPU enabled) or use pre-trained versions of each model!\n",
    "\n",
    "Have fun with the lab!\n",
    "\n",
    "Link:https://colab.research.google.com/github/https-deeplearning-ai/MLEP-public/blob/main/course1/week2-ungraded-lab/C1W2_Ungraded_Lab_Birds_Cats_Dogs.ipynb\n"
   ]
  },
  {
   "cell_type": "code",
   "execution_count": null,
   "metadata": {},
   "outputs": [],
   "source": []
  }
 ],
 "metadata": {
  "kernelspec": {
   "display_name": "Python 3",
   "language": "python",
   "name": "python3"
  },
  "language_info": {
   "codemirror_mode": {
    "name": "ipython",
    "version": 3
   },
   "file_extension": ".py",
   "mimetype": "text/x-python",
   "name": "python",
   "nbconvert_exporter": "python",
   "pygments_lexer": "ipython3",
   "version": "3.7.3"
  }
 },
 "nbformat": 4,
 "nbformat_minor": 4
}
