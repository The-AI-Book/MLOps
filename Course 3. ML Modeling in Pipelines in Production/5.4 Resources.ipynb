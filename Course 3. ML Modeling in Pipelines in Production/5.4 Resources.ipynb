{
 "cells": [
  {
   "cell_type": "markdown",
   "metadata": {},
   "source": [
    "# Explainable AI\n",
    "If you wish to dive more deeply into explainable AI, feel free to check out these optional references. You won’t have to read these to complete this week’s practice quizzes.\n",
    "\n",
    "<a href = \"https://arxiv.org/pdf/1910.10045.pdf\">Explainable AI</a>\n",
    "\n",
    "<a href = \"https://arxiv.org/pdf/1910.10045.pdf\">Responsible AI</a>\n",
    "\n",
    "# Interpretability\n",
    "If you wish to dive more deeply into interpretability, feel free to check out these optional references. You won’t have to read these to complete this week’s practice quizzes.\n",
    "\n",
    "<a href = \"https://christophm.github.io/interpretable-ml-book/\">Interpretable Machine Learning - A Guide for Making Black Box Models Explainable.</a>\n",
    "\n",
    "<a href = \"https://www.tensorflow.org/lattice\">TensorFlow Lattice</a>\n",
    "\n",
    "<a href = \"https://jmlr.org/papers/volume17/15-243/15-243.pdf\">Monotonic Calibrated Interpolated Look-Up Tables</a>\n",
    "\n",
    "\n",
    "\n",
    "# Permutation Feature Importance\n",
    "If you wish to dive more deeply permutation feature importance, feel free to check out these optional references. You won’t have to read these to complete this week’s practice quizzes\n",
    "\n",
    "<a href = \"https://arxiv.org/abs/1801.01489\">Permutation feature importance</a>\n",
    "\n",
    "# Understanding Model Predictions\n",
    "If you wish to dive more deeply into understanding model predictions, feel free to check out these optional references. You won’t have to read these to complete this week’s practice quizzes.\n",
    "\n",
    "<a href = \"https://proceedings.neurips.cc/paper/2017/file/8a20a8621978632d76c43dfd28b67767-Paper.pdf\">A Unified Approach to Interpreting Model Predictions</a>\n",
    "\n",
    "<a href = \"https://arxiv.org/abs/1905.04610\">Explainable AI for Trees: From Local Explanations to Global Understanding</a>\n",
    "\n",
    "# TCAV and LIME\n",
    "If you wish to dive more deeply into TCAV and LIME, feel free to check out these optional references. You won’t have to read these to complete this week’s practice quizzes.\n",
    "\n",
    "<a href = \"https://arxiv.org/pdf/1711.11279.pdf\">TCAV</a>\n",
    "\n",
    "<a href = \"https://github.com/marcotcr/lime\">LIME</a>\n",
    "\n",
    "# AI Explanations\n",
    "If you wish to dive more deeply into AI explanations, feel free to check out this optional reference. You won’t have to read these to complete this week’s practice quizzes.\n",
    "\n",
    "<a href = \"https://storage.googleapis.com/cloud-ai-whitepapers/AI%20Explainability%20Whitepaper.pdf\">AI Explanations</a>\n",
    "\n"
   ]
  },
  {
   "cell_type": "code",
   "execution_count": null,
   "metadata": {},
   "outputs": [],
   "source": []
  }
 ],
 "metadata": {
  "kernelspec": {
   "display_name": "Python 3",
   "language": "python",
   "name": "python3"
  },
  "language_info": {
   "codemirror_mode": {
    "name": "ipython",
    "version": 3
   },
   "file_extension": ".py",
   "mimetype": "text/x-python",
   "name": "python",
   "nbconvert_exporter": "python",
   "pygments_lexer": "ipython3",
   "version": "3.7.3"
  }
 },
 "nbformat": 4,
 "nbformat_minor": 4
}
