{
 "cells": [
  {
   "cell_type": "markdown",
   "metadata": {},
   "source": [
    "# TensorBoard\n",
    "If you wish to dive more deeply into TensorBoard usage for model analysis feel free to check out this optional reference. You won’t have to read these to complete this week’s practice quizzes.\n",
    "\n",
    "<a href = \"https://blog.tensorflow.org/2019/12/introducing-tensorboarddev-new-way-to.html\">TensorBoard</a>\n",
    "\n",
    "# TensorFlow Model Analysis\n",
    "If you wish to dive more deeply into TensorFlow Model Analysis (TFMA) capabilities, feel free to check out these resources. You won’t have to read these to complete this week’s practice quizzes.\n",
    "\n",
    "<a href = \"https://blog.tensorflow.org/2018/03/introducing-tensorflow-model-analysis.html\">TFMA</a>\n",
    "\n",
    "<a href = \"https://www.tensorflow.org/tfx/model_analysis/architecture\">TFMA architecture</a>\n",
    "\n",
    "# Sensitivity Analysis and Adversarial Attacks\n",
    "If you wish to dive more deeply into adversarial attacks, feel free to check out this paper:\n",
    "\n",
    "<a href = \"https://arxiv.org/abs/1412.6572\">Explaining and Harnessing Adversarial Examples</a>\n",
    "\n",
    "To access the Partial Dependence Plots libraries please check these resources:\n",
    "\n",
    "<a href = \"https://github.com/SauceCat/PDPbox\">PDPbox</a>\n",
    "\n",
    "<a href = \"https://github.com/AustinRochford/PyCEbox\">PyCEbox</a>\n",
    "\n",
    "The demo shown in the previous video is based on this <a href = \"\">Google Colab notebook.\n",
    "\n",
    "# Model Remediation and Fairness\n",
    "If you wish to dive more deeply into model remediation and fairness, feel free to check out these optional resources and tools. You won’t have to read these to complete this week’s practice quizzes.\n",
    "\n",
    "<a href = \"https://www.tensorflow.org/responsible_ai/fairness_indicators/guide\">Fairness</a>\n",
    "\n",
    "<a href = \"https://arxiv.org/pdf/1904.13341.pdf\">Learning fair representations</a>\n",
    "\n",
    "<a href = \"https://github.com/cosmicBboy/themis-ml\">Fairness-aware Machine Learning library</a>\n",
    "\n",
    "<a href = \"http://aif360.mybluemix.net/\">AI 360 open source model fairness library</a>\n",
    "\n",
    "<a href = \"https://www.tensorflow.org/responsible_ai/model_remediation\">Model remediation</a>\n",
    "\n",
    "<a href = \"https://modelcards.withgoogle.com/about\">Model cards</a>\n",
    "\n",
    "# Continuous Evaluation and Monitoring\n",
    "If you wish to dive more deeply into continuous evaluation and model monitoring, feel free to check out these optional resources and tools. You won’t have to read these to complete this week’s practice quizzes.\n",
    "\n",
    "<a href = \"https://www.infoq.com/presentations/instrumentation-observability-monitoring-ml/\">Instrumentation, Observability & Monitoring of Machine Learning Models</a>\n",
    "\n",
    "<a href = \"https://christophergs.com/machine%20learning/2020/03/14/how-to-monitor-machine-learning-models/\">Monitoring Machine Learning Models in Production - A Comprehensive Guide</a>\n",
    "\n",
    "<a href = \"https://arxiv.org/pdf/1704.00023.pdf\">Concept Drift detection for Unsupervised Learning</a>\n",
    "\n",
    "<a href = \"https://cloud.google.com/ai-platform/prediction/docs/continuous-evaluation\">Google Cloud</a>\n",
    "\n",
    "<a href = \"https://aws.amazon.com/sagemaker/model-monitor/\">Amazon SageMaker</a>\n",
    "\n",
    "<a href = \"https://docs.microsoft.com/en-us/azure/machine-learning/how-to-monitor-datasets?tabs=python\">Microsoft Azure</a>\n",
    "\n",
    "\n"
   ]
  },
  {
   "cell_type": "code",
   "execution_count": null,
   "metadata": {},
   "outputs": [],
   "source": []
  }
 ],
 "metadata": {
  "kernelspec": {
   "display_name": "Python 3",
   "language": "python",
   "name": "python3"
  },
  "language_info": {
   "codemirror_mode": {
    "name": "ipython",
    "version": 3
   },
   "file_extension": ".py",
   "mimetype": "text/x-python",
   "name": "python",
   "nbconvert_exporter": "python",
   "pygments_lexer": "ipython3",
   "version": "3.7.3"
  }
 },
 "nbformat": 4,
 "nbformat_minor": 4
}
