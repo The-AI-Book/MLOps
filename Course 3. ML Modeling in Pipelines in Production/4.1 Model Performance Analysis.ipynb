{
 "cells": [
  {
   "cell_type": "markdown",
   "metadata": {},
   "source": [
    "# Week 4. Model Analysis Overview\n",
    "\n",
    "---\n",
    "\n",
    "## Model Performance Analysis\n",
    "\n",
    "- Tensorflow model analysis\n",
    "- What is next after model training/deployment?\n",
    "- Is model performing well?\n",
    "- Is there scope for improvement?\n",
    "- Can the data change in future?\n",
    "- Has the data changed since you created your training dataset?\n",
    "\n",
    "### Black box evaluation vs model introspection\n",
    "- Models can be tested for metrics like accuracy and losses like test error without knowing internal details\n",
    "- For finer evaluation, models can be inspected part by part\n",
    "\n",
    "### Black box evaluation\n",
    "- You can use Tensorflow Board\n",
    "\n",
    "### Performance metrics vs optimization objetives\n",
    "- Performance metrics will vary based on the task like regression, classification, etc.\n",
    "\n",
    "<img src = \"https://i.gyazo.com/b7c86f1a1e5f33eef998e3d7f570b3fe.png\">\n",
    "\n",
    "### Top level aggregate metrics vs slicing\n",
    "\n",
    "- Most of the time, metrics are calculated on the entire dataset\n",
    "- Slicing deals with understanding how the model is performing on each subset of data\n",
    "\n"
   ]
  },
  {
   "cell_type": "code",
   "execution_count": null,
   "metadata": {},
   "outputs": [],
   "source": []
  }
 ],
 "metadata": {
  "kernelspec": {
   "display_name": "Python 3",
   "language": "python",
   "name": "python3"
  },
  "language_info": {
   "codemirror_mode": {
    "name": "ipython",
    "version": 3
   },
   "file_extension": ".py",
   "mimetype": "text/x-python",
   "name": "python",
   "nbconvert_exporter": "python",
   "pygments_lexer": "ipython3",
   "version": "3.7.3"
  }
 },
 "nbformat": 4,
 "nbformat_minor": 4
}
