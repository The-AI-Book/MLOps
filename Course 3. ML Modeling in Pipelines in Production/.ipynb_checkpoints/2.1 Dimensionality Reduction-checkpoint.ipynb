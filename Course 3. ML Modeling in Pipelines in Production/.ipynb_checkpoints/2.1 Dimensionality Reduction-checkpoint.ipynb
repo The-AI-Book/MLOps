{
 "cells": [
  {
   "cell_type": "markdown",
   "metadata": {},
   "source": [
    "# Week 2. Dimensionality Reduction\n",
    "---\n",
    "<img src = \"https://i.gyazo.com/013d3e74948fb79a644fd2dae7ae5fbd.png\" width = \"500px\">\n",
    "\n",
    "### A note about neural networks\n",
    "\n",
    "<img src = \"https://i.gyazo.com/538b9fc73cdcc6384086011c0e44a914.png\" width = \"500px\">"
   ]
  },
  {
   "cell_type": "markdown",
   "metadata": {},
   "source": [
    "## Curse of Dimensionality\n",
    "\n",
    "---\n",
    "Many ML methods use the distance measure\n",
    "- k-Nearest Neighbours\n",
    "- Support Vector Machnies\n",
    "- Recommendation systems\n",
    "\n",
    "### Why is high-dimensional data a problem?\n",
    "- More dimensiones, more features\n",
    "- Risk of overfitting our models\n",
    "- Distances grow more and more alike\n",
    "- No clear distinction between clustered objects\n",
    "- Concentration phenomenon for Euclidean distance\n",
    "\n",
    "\"As we add more dimensiones we also increase the processing power we need to train the model and make predictions, as well as the amount of training data required\"\n",
    "- Badreesh Shetty\n",
    "\n",
    "### Why are more features bad?\n",
    "- Redundant / irrelevant features\n",
    "- More noise added than signal\n",
    "- Hard to interpret and visualize\n",
    "- Hard to store and process data\n",
    "\n",
    "<img src = \"https://i.gyazo.com/2c19dacc0216c5e002e5fcf857854cb9.png\" width = \"500px\">\n",
    "(with a constant number of training examples)\n",
    "\n",
    "$$d_{ij} = \\sqrt{ \\sum\\limits_{k=1}^{n}({x_{ik} - x_{jk}})^2}$$\n",
    "\n",
    "- Adding dimensions increases feature space volume\n",
    "- New dimensions **add non-negative terms to the sum**\n",
    "- Distance increases with the number of dimensions\n",
    "- For a given number of examples, the feature space becomes **increasingly sparse**\n",
    "- Higher chance of overfitting on errors\n",
    "\n",
    "### The lower the hyphothesis space\n",
    "- The easier it is to find the correct hyphotesis\n",
    "- The less examples you need\n",
    "\n",
    "## How dimensionality impacts in other ways\n",
    "---\n",
    "\n",
    "- Runtime and system memory requirements\n",
    "- Solutions take longer to reach global\n",
    "- More dimensions raise the likelihood of correlated features\n",
    "\n",
    "### More features require more training data\n",
    "- More features aren't better if they don't add predictive information\n",
    "- Number of training instances needed increases exponentially with each added feature\n",
    "- Reduces real-world usefulness of models\n",
    "\n",
    "<img src = \"https://i.gyazo.com/6d04c54a77e51a0d8ebeb9669fade702.png\" width = \"500px\">\n",
    "\n",
    "## Manual Dimensionality Reductions\n",
    "---\n",
    "\n",
    "- Features must have information to produce correct results\n",
    "- Derive features from inherent features\n",
    "- Extract and recombine to create new features\n",
    "\n",
    "### Why reduce dimensionality?\n",
    "- Storage\n",
    "- Computational\n",
    "- Consistency\n",
    "- Visualization\n",
    "\n",
    "Major techniques for dimensionality reduction\n",
    "- Engineering\n",
    "- Selection\n",
    "\n",
    "### Feature Engineering\n",
    "<img src = \"https://i.gyazo.com/98caef55016e47a906181124dd7ea9a0.png\" width = \"500px\">\n",
    "\n",
    "\n",
    "### Linear dimensionality reduction\n",
    "\n",
    "- Linearly project $n$-dimensional data onto a $k$-dimensional subspace ($k < n$, often $k << n$).\n",
    "- There are infinitely many $k$-dimensional subspaces we can project the data onto\n",
    "\n",
    "### Best k-dimensional subspace for projection\n",
    "\n",
    "<img src = \"https://i.gyazo.com/3a5d4db25efac36d1ae486bc295ed6bb.png\" width = \"500px\">\n",
    "\n",
    "## Principal Components Analysis\n",
    "---\n",
    "\n",
    "- PCA is minimization of the orthogonal distance\n",
    "- Widely used method for unsupervised & linear dimensionality reduction\n",
    "- Accounts for variance of data in as few dimensions as possible using linear projections"
   ]
  },
  {
   "cell_type": "markdown",
   "metadata": {},
   "source": [
    "#### Algorithmic process\n",
    "---\n",
    "\n",
    "1. Compute columns mean $\\bar{x}$\n",
    "2. Substract mean $B = X - \\bar{X}$ (centered data).\n",
    "3. Covariance matrix of colums of $B$: $C = B^TB$\n",
    "4. Compute eigenvalues of $C$: $CV = VD$\n",
    "5. Finally, this principal components are $T = BV$ where $V$ is called de loadings.\n",
    "\n",
    "- The latter process can be view as decomposing $B$ in directions of maximal variance.\n",
    "- An alternative to compute the principal components is to use Singular Value Decomposition (for short, SVD): \n",
    "\n",
    "$$B = U \\Sigma V^T$$\n",
    "\n",
    "As a matter of fact, when you use <code>sklearn.decomposition.PCA</code> class, <code>PCA.components_</code> return $V^T$. Addionality, when you use <code>PCA.fit_transform</code> you get back $T = U \\Sigma = BV$ which are the principal components. The latter is actually a projection of the data on the components given by $V^T$ matrix."
   ]
  },
  {
   "cell_type": "markdown",
   "metadata": {},
   "source": [
    "#### Sample code.\n",
    "\n",
    "---"
   ]
  },
  {
   "cell_type": "code",
   "execution_count": 613,
   "metadata": {},
   "outputs": [],
   "source": [
    "import numpy as np\n",
    "X = np.random.rand(100,8) * 100"
   ]
  },
  {
   "cell_type": "code",
   "execution_count": 615,
   "metadata": {},
   "outputs": [],
   "source": [
    "X_test = np.random.rand(20, 8) * 100"
   ]
  },
  {
   "cell_type": "code",
   "execution_count": 616,
   "metadata": {},
   "outputs": [
    {
     "data": {
      "text/plain": [
       "array([48.00153386, 49.72112948, 50.60398309, 49.03428747, 53.44571937,\n",
       "       52.23669294, 50.01954148, 45.01118888])"
      ]
     },
     "execution_count": 616,
     "metadata": {},
     "output_type": "execute_result"
    }
   ],
   "source": [
    "mu_X = np.mean(X, axis = 0)\n",
    "mu_X"
   ]
  },
  {
   "cell_type": "code",
   "execution_count": 618,
   "metadata": {},
   "outputs": [],
   "source": [
    "centered_X = X - mu_X\n",
    "#centered_X"
   ]
  },
  {
   "cell_type": "code",
   "execution_count": 619,
   "metadata": {},
   "outputs": [],
   "source": [
    "u, s, v = np.linalg.svd(centered_X, full_matrices = False)"
   ]
  },
  {
   "cell_type": "code",
   "execution_count": 620,
   "metadata": {},
   "outputs": [],
   "source": [
    "#u, s, v"
   ]
  },
  {
   "cell_type": "code",
   "execution_count": 621,
   "metadata": {},
   "outputs": [
    {
     "data": {
      "text/plain": [
       "array([97, 98, 86, 83,  2, 50, 31, 99], dtype=int64)"
      ]
     },
     "execution_count": 621,
     "metadata": {},
     "output_type": "execute_result"
    }
   ],
   "source": [
    "max_abs_cols = np.argmax(np.abs(u), axis=0)\n",
    "max_abs_cols"
   ]
  },
  {
   "cell_type": "code",
   "execution_count": 622,
   "metadata": {},
   "outputs": [
    {
     "data": {
      "text/plain": [
       "array([-1.,  1.,  1., -1.,  1.,  1., -1., -1.])"
      ]
     },
     "execution_count": 622,
     "metadata": {},
     "output_type": "execute_result"
    }
   ],
   "source": [
    "signs = np.sign(u[max_abs_cols, range(u.shape[1])])\n",
    "signs"
   ]
  },
  {
   "cell_type": "code",
   "execution_count": 540,
   "metadata": {},
   "outputs": [
    {
     "data": {
      "text/plain": [
       "array([[-0.09385492, -0.3437466 ,  0.72978652],\n",
       "       [-0.65666327, -0.35446663, -0.34409792],\n",
       "       [ 0.73129616, -0.39328078, -0.32122862],\n",
       "       [ 0.12142737,  0.59979471,  0.31687092],\n",
       "       [-0.10220534,  0.49169931, -0.3813309 ]])"
      ]
     },
     "execution_count": 540,
     "metadata": {},
     "output_type": "execute_result"
    }
   ],
   "source": [
    "u *= signs\n",
    "u"
   ]
  },
  {
   "cell_type": "code",
   "execution_count": 541,
   "metadata": {},
   "outputs": [
    {
     "data": {
      "text/plain": [
       "array([[-0.75899993,  0.63489284,  0.14432667],\n",
       "       [ 0.18597499,  0.42383817, -0.88643923],\n",
       "       [-0.62396507, -0.64596616, -0.43976733]])"
      ]
     },
     "execution_count": 541,
     "metadata": {},
     "output_type": "execute_result"
    }
   ],
   "source": [
    "v *= signs\n",
    "v"
   ]
  },
  {
   "cell_type": "code",
   "execution_count": 542,
   "metadata": {},
   "outputs": [],
   "source": [
    "n_components = 3"
   ]
  },
  {
   "cell_type": "code",
   "execution_count": 543,
   "metadata": {},
   "outputs": [
    {
     "data": {
      "text/plain": [
       "array([[ -7.97058059, -12.05768962,  17.5568412 ],\n",
       "       [-55.76678706, -12.43371886,  -8.27813656],\n",
       "       [ 62.10494676, -13.79521301,  -7.72795852],\n",
       "       [ 10.31215628,  21.03915614,   7.62312296],\n",
       "       [ -8.67973538,  17.24746536,  -9.17386908]])"
      ]
     },
     "execution_count": 543,
     "metadata": {},
     "output_type": "execute_result"
    }
   ],
   "source": [
    "# Principal components (this is the projected data, e.g T = U * Sigma)\n",
    "principal_components = (u * s)[:, : n_components]\n",
    "principal_components"
   ]
  },
  {
   "cell_type": "code",
   "execution_count": 544,
   "metadata": {},
   "outputs": [
    {
     "data": {
      "text/plain": [
       "((4, 3), (5, 3))"
      ]
     },
     "execution_count": 544,
     "metadata": {},
     "output_type": "execute_result"
    }
   ],
   "source": [
    "X_test.shape, (u * s)[:, : n_components].shape"
   ]
  },
  {
   "cell_type": "code",
   "execution_count": 556,
   "metadata": {},
   "outputs": [],
   "source": [
    "X_test_center = X_test - mu_X"
   ]
  },
  {
   "cell_type": "code",
   "execution_count": 557,
   "metadata": {},
   "outputs": [
    {
     "data": {
      "text/plain": [
       "array([[-12.04868212,   5.07701733,  51.73212857],\n",
       "       [-63.46895037,  28.11902814,  22.27179244],\n",
       "       [-25.91429068, -28.98963466, -22.60280496],\n",
       "       [-25.52307741,  67.48937161, -20.11254641]])"
      ]
     },
     "execution_count": 557,
     "metadata": {},
     "output_type": "execute_result"
    }
   ],
   "source": [
    "# This should be the same as pca.transform(X_test) output.\n",
    "np.dot(X_test_center, v.T)"
   ]
  },
  {
   "cell_type": "markdown",
   "metadata": {},
   "source": [
    "#### Sklearn\n",
    "\n",
    "---"
   ]
  },
  {
   "cell_type": "code",
   "execution_count": 623,
   "metadata": {},
   "outputs": [],
   "source": [
    "from sklearn.decomposition import PCA"
   ]
  },
  {
   "cell_type": "code",
   "execution_count": 649,
   "metadata": {},
   "outputs": [
    {
     "data": {
      "text/plain": [
       "PCA(n_components=3)"
      ]
     },
     "execution_count": 649,
     "metadata": {},
     "output_type": "execute_result"
    }
   ],
   "source": [
    "pca = PCA(n_components = 3)\n",
    "pca.fit(X)"
   ]
  },
  {
   "cell_type": "code",
   "execution_count": 650,
   "metadata": {},
   "outputs": [
    {
     "data": {
      "text/plain": [
       "array([0.17897957, 0.1621357 , 0.14694071])"
      ]
     },
     "execution_count": 650,
     "metadata": {},
     "output_type": "execute_result"
    }
   ],
   "source": [
    "pca.explained_variance_ratio_"
   ]
  },
  {
   "cell_type": "code",
   "execution_count": 651,
   "metadata": {},
   "outputs": [
    {
     "data": {
      "text/plain": [
       "0.4880559763150311"
      ]
     },
     "execution_count": 651,
     "metadata": {},
     "output_type": "execute_result"
    }
   ],
   "source": [
    "pca.explained_variance_ratio_.sum()"
   ]
  },
  {
   "cell_type": "code",
   "execution_count": 652,
   "metadata": {},
   "outputs": [
    {
     "data": {
      "text/plain": [
       "array([[ 0.32192729,  0.60580632,  0.56613525,  0.30729092,  0.2002736 ,\n",
       "         0.18983284,  0.19122515, -0.04137175],\n",
       "       [ 0.1375242 ,  0.066707  ,  0.1119213 , -0.05048867,  0.40438198,\n",
       "        -0.7321276 , -0.44465359, -0.25359293],\n",
       "       [-0.354512  , -0.19583206,  0.27390799,  0.50285152, -0.00471579,\n",
       "        -0.34137526,  0.07642686,  0.62103577]])"
      ]
     },
     "execution_count": 652,
     "metadata": {},
     "output_type": "execute_result"
    }
   ],
   "source": [
    "pca.components_"
   ]
  },
  {
   "cell_type": "code",
   "execution_count": 653,
   "metadata": {},
   "outputs": [],
   "source": [
    "# Principal components (this returns U * Sigma)\n",
    "res = pca.fit_transform(X)\n",
    "#res"
   ]
  },
  {
   "cell_type": "code",
   "execution_count": 654,
   "metadata": {},
   "outputs": [],
   "source": [
    "# X_test is projected on the first principal components previosly extracted from a training set.\n",
    "# e.g X_transformed = np.dot(X_test, self.components_.T), where self.components_ = V^T\n",
    "# We project point on components.\n",
    "projection = pca.transform(X_test)\n",
    "#projection"
   ]
  },
  {
   "cell_type": "code",
   "execution_count": 595,
   "metadata": {},
   "outputs": [
    {
     "data": {
      "text/plain": [
       "array([[-0.75899993, -0.63489284,  0.14432667],\n",
       "       [-0.18597499,  0.42383817,  0.88643923],\n",
       "       [-0.62396507,  0.64596616, -0.43976733]])"
      ]
     },
     "execution_count": 595,
     "metadata": {},
     "output_type": "execute_result"
    }
   ],
   "source": [
    "pca.components_"
   ]
  },
  {
   "cell_type": "code",
   "execution_count": 571,
   "metadata": {},
   "outputs": [
    {
     "data": {
      "text/plain": [
       "array([[20.6337095 , 25.83992519, 33.47553768],\n",
       "       [82.32914785, 21.99002894, 18.58457264],\n",
       "       [71.20456261, 50.61585357, 94.36245261],\n",
       "       [87.2964792 , 90.14709523,  7.80100484]])"
      ]
     },
     "execution_count": 571,
     "metadata": {},
     "output_type": "execute_result"
    }
   ],
   "source": [
    "X_test"
   ]
  },
  {
   "cell_type": "code",
   "execution_count": 655,
   "metadata": {},
   "outputs": [],
   "source": [
    "xs = projection[:, 0]\n",
    "ys = projection[:, 1]"
   ]
  },
  {
   "cell_type": "code",
   "execution_count": 663,
   "metadata": {},
   "outputs": [
    {
     "data": {
      "text/plain": [
       "array([ 11.63305235, -26.66630492,  18.21452658, -32.12958268,\n",
       "        -7.76915954,  13.38566285,  48.29987154, -14.17895762,\n",
       "        -7.92596986, -16.91941205,  59.76809046,  -0.8974126 ,\n",
       "        -2.4952731 , -19.30886346, -10.40892255,   4.11820775,\n",
       "        34.17268591,  23.75420992,   1.43642395, -12.64870845])"
      ]
     },
     "execution_count": 663,
     "metadata": {},
     "output_type": "execute_result"
    }
   ],
   "source": [
    "xs"
   ]
  },
  {
   "cell_type": "code",
   "execution_count": 656,
   "metadata": {},
   "outputs": [
    {
     "data": {
      "text/plain": [
       "<matplotlib.collections.PathCollection at 0x243309d4358>"
      ]
     },
     "execution_count": 656,
     "metadata": {},
     "output_type": "execute_result"
    },
    {
     "data": {
      "image/png": "[encoded data removed]",
      "text/plain": [
       "<Figure size 432x288 with 1 Axes>"
      ]
     },
     "metadata": {
      "needs_background": "light"
     },
     "output_type": "display_data"
    }
   ],
   "source": [
    "plt.scatter(xs, ys)"
   ]
  },
  {
   "cell_type": "code",
   "execution_count": 657,
   "metadata": {},
   "outputs": [],
   "source": [
    "xs = projection[:, 0]\n",
    "ys = projection[:, 1]\n",
    "zs = projection[:, 2]"
   ]
  },
  {
   "cell_type": "code",
   "execution_count": 658,
   "metadata": {},
   "outputs": [
    {
     "data": {
      "image/png": "[encoded data removed]",
      "text/plain": [
       "<Figure size 1152x648 with 2 Axes>"
      ]
     },
     "metadata": {
      "needs_background": "light"
     },
     "output_type": "display_data"
    }
   ],
   "source": [
    "\n",
    "# Import libraries\n",
    "from mpl_toolkits import mplot3d\n",
    "import numpy as np\n",
    "import matplotlib.pyplot as plt\n",
    " \n",
    " # Creating figure\n",
    "fig = plt.figure(figsize = (16, 9))\n",
    "ax = plt.axes(projection =\"3d\")\n",
    "   \n",
    "# Creating color map\n",
    "my_cmap = plt.get_cmap('hsv')\n",
    " \n",
    "# Creating plot\n",
    "sctt = ax.scatter3D(xs, ys, zs,\n",
    "                    alpha = 1,\n",
    "                    s = 100,\n",
    "                    marker ='*')\n",
    "\n",
    "\n",
    " \n",
    "plt.title(\"simple 3D scatter plot\")\n",
    "ax.set_xlabel('X-axis', fontweight ='bold')\n",
    "ax.set_ylabel('Y-axis', fontweight ='bold')\n",
    "ax.set_zlabel('Z-axis', fontweight ='bold')\n",
    "fig.colorbar(sctt, ax = ax, shrink = 0.5, aspect = 5)\n",
    " \n",
    "# show plot\n",
    "plt.show()"
   ]
  },
  {
   "cell_type": "code",
   "execution_count": null,
   "metadata": {},
   "outputs": [],
   "source": []
  }
 ],
 "metadata": {
  "kernelspec": {
   "display_name": "Python 3",
   "language": "python",
   "name": "python3"
  },
  "language_info": {
   "codemirror_mode": {
    "name": "ipython",
    "version": 3
   },
   "file_extension": ".py",
   "mimetype": "text/x-python",
   "name": "python",
   "nbconvert_exporter": "python",
   "pygments_lexer": "ipython3",
   "version": "3.7.3"
  }
 },
 "nbformat": 4,
 "nbformat_minor": 4
}
