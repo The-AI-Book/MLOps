{
 "cells": [
  {
   "cell_type": "markdown",
   "metadata": {},
   "source": [
    "# High-Performance Modeling\n",
    "If you wish to dive more deeply into  high-performance modeling, feel free to check out these optional references. You won’t have to read these to complete this week’s practice quizzes.\n",
    "\n",
    "<a href = \"https://www.tensorflow.org/guide/distributed_training\">Distributed training</a>\n",
    "\n",
    "<a href = \"https://arxiv.org/abs/1806.03377\">Data parallelism</a>\n",
    "\n",
    "<a href = \"https://ai.googleblog.com/2019/03/introducing-gpipe-open-source-library.html\">Pipeline parallelism</a>\n",
    "\n",
    "<a href = \"https://arxiv.org/abs/1811.06965\">GPipe</a>\n",
    "\n",
    "\n",
    "# Knowledge Distillation\n",
    "If you wish to dive more deeply into knowledge distillation, feel free to check out these optional references. You won’t have to read these to complete this week’s practice quizzes.\n",
    "\n",
    "<a href = \"https://arxiv.org/pdf/1503.02531.pdf\">Knowledge distillation</a>\n",
    "\n",
    "<a href = \"https://arxiv.org/pdf/1910.08381.pdf\">Q&A case study</a>\n",
    "\n"
   ]
  },
  {
   "cell_type": "code",
   "execution_count": null,
   "metadata": {},
   "outputs": [],
   "source": []
  }
 ],
 "metadata": {
  "kernelspec": {
   "display_name": "Python 3",
   "language": "python",
   "name": "python3"
  },
  "language_info": {
   "codemirror_mode": {
    "name": "ipython",
    "version": 3
   },
   "file_extension": ".py",
   "mimetype": "text/x-python",
   "name": "python",
   "nbconvert_exporter": "python",
   "pygments_lexer": "ipython3",
   "version": "3.7.3"
  }
 },
 "nbformat": 4,
 "nbformat_minor": 4
}
