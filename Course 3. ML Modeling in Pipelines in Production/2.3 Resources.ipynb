{
 "cells": [
  {
   "cell_type": "markdown",
   "metadata": {},
   "source": [
    "# Dimensionality Reduction Techniques\n",
    "If you wish to dive more deeply into dimensionality reduction techniques, feel free to check out these optional references. You won’t have to read these to complete this week’s practice quizzes.\n",
    "\n",
    "<a href = \"https://arxiv.org/pdf/1404.1100.pdf\">Principal Component Analysis (PCA)</a>\n",
    "\n",
    "<a href = \"https://arxiv.org/pdf/1404.2986.pdf\">Independent Component Analysis (ICA)</a>\n",
    "\n",
    "<a href = \"http://alexhwilliams.info/itsneuronalblog/2016/03/27/pca/\">PCA extensions</a>\n",
    "\n",
    "# Quantization\n",
    "If you wish to dive more deeply into quantization, feel free to check out these optional references. You won’t have to read these to complete this week’s practice quizzes.\n",
    "\n",
    "<a href = \"https://arxiv.org/abs/1712.05877\">Quantization</a>\n",
    "\n",
    "<a href = \"https://medium.com/tensorflow/introducing-the-model-optimization-toolkit-for-tensorflow-254aca1ba0a3\">Post-training quantizationn</a>\n",
    "\n",
    "<a href = \"https://blog.tensorflow.org/2020/04/quantization-aware-training-with-tensorflow-model-optimization-toolkit.html\">Quantization aware trainingn</a>\n",
    "\n"
   ]
  },
  {
   "cell_type": "code",
   "execution_count": null,
   "metadata": {},
   "outputs": [],
   "source": []
  }
 ],
 "metadata": {
  "kernelspec": {
   "display_name": "Python 3",
   "language": "python",
   "name": "python3"
  },
  "language_info": {
   "codemirror_mode": {
    "name": "ipython",
    "version": 3
   },
   "file_extension": ".py",
   "mimetype": "text/x-python",
   "name": "python",
   "nbconvert_exporter": "python",
   "pygments_lexer": "ipython3",
   "version": "3.7.3"
  }
 },
 "nbformat": 4,
 "nbformat_minor": 4
}
