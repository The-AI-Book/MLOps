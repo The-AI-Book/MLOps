{
 "cells": [
  {
   "cell_type": "markdown",
   "metadata": {},
   "source": [
    "# Neural Architecture Search\n",
    "If you wish to dive more deeply into neural architecture search , feel free to check out these optional references. You won’t have to read these to complete this week’s practice quizzes.\n",
    "\n",
    "<a href = \"https://arxiv.org/pdf/1808.05377.pdf\">Neural Architecture Search</a>\n",
    "\n",
    "<a href = \"https://distill.pub/2020/bayesian-optimization/\">Bayesian Optimization</a>\n",
    "\n",
    "<a href = \"https://arxiv.org/pdf/1611.01578.pdf\">Neural Architecture Search with Reinforcement Learning</a>\n",
    "\n",
    "<a href = \"https://arxiv.org/pdf/1712.00559.pdf\">Progressive Neural Architecture Search</a>\n",
    "\n",
    "<a href = \"https://arxiv.org/abs/1603.01670\">Network Morphism</a>\n",
    "\n",
    "\n",
    "# AutoML\n",
    "If you wish to dive more deeply into AutoMLs, feel free to check out these cloud-based tools. You won’t have to read these to complete this week’s practice quizzes.\n",
    "\n",
    "<a href = \"https://aws.amazon.com/sagemaker/autopilot/\">Amazon SageMaker Autopilot</a>\n",
    "\n",
    "<a href = \"https://azure.microsoft.com/en-in/services/machine-learning/automatedml/\">Microsoft Azure Automated Machine Learning</a>\n",
    "\n",
    "<a href = \"https://cloud.google.com/automl\">Google Cloud AutoML</a>\n",
    "\n"
   ]
  },
  {
   "cell_type": "code",
   "execution_count": null,
   "metadata": {},
   "outputs": [],
   "source": []
  }
 ],
 "metadata": {
  "kernelspec": {
   "display_name": "Python 3",
   "language": "python",
   "name": "python3"
  },
  "language_info": {
   "codemirror_mode": {
    "name": "ipython",
    "version": 3
   },
   "file_extension": ".py",
   "mimetype": "text/x-python",
   "name": "python",
   "nbconvert_exporter": "python",
   "pygments_lexer": "ipython3",
   "version": "3.7.3"
  }
 },
 "nbformat": 4,
 "nbformat_minor": 4
}
