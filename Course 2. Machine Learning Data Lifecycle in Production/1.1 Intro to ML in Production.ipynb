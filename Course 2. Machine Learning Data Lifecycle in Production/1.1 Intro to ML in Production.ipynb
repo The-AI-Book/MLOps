{
 "cells": [
  {
   "cell_type": "markdown",
   "metadata": {},
   "source": [
    "# Week 1. Intro to ML in Production\n",
    "---\n",
    "\n",
    "<img src = \"https://i.gyazo.com/ad64528d68394d623d14655a67dd247a.png\">\n",
    "<img src = \"https://i.gyazo.com/af8cb0b0d9979ad9446c7debf7bba75b.png\">\n",
    "<img src = \"https://i.gyazo.com/114d9b298fc900063f69a1a1f1b4be3e.png\">\n",
    "<img src = \"https://i.gyazo.com/3d37410c6974baf032af23432229b05d.png\" width = \"500px\">"
   ]
  },
  {
   "cell_type": "markdown",
   "metadata": {},
   "source": [
    "## ML Pipelines\n",
    "\n",
    "- ML Pipelines\n",
    "- Directed Acyclic Graphs and Pipeline Orchestration Frameworks\n",
    "- Intro to Tensorflow Extended (TFX)\n",
    "\n",
    "Intrastructure for automating, monitoring, and maintaining model training and deployment.\n",
    "\n",
    "<img src = \"https://i.gyazo.com/4fdc1d8d22046629caa5c59957be9d97.png\" width = \"600px\">\n",
    "<img src = \"https://i.gyazo.com/1aced16be8f1cc7b3212076361565627.png\" width = \"600px\">\n"
   ]
  },
  {
   "cell_type": "code",
   "execution_count": null,
   "metadata": {},
   "outputs": [],
   "source": []
  }
 ],
 "metadata": {
  "kernelspec": {
   "display_name": "Python 3",
   "language": "python",
   "name": "python3"
  },
  "language_info": {
   "codemirror_mode": {
    "name": "ipython",
    "version": 3
   },
   "file_extension": ".py",
   "mimetype": "text/x-python",
   "name": "python",
   "nbconvert_exporter": "python",
   "pygments_lexer": "ipython3",
   "version": "3.7.3"
  }
 },
 "nbformat": 4,
 "nbformat_minor": 4
}
