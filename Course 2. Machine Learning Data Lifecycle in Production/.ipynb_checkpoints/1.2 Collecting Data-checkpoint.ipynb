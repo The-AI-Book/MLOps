{
 "cells": [
  {
   "cell_type": "markdown",
   "metadata": {},
   "source": [
    "# Week 1. Collecting Data\n",
    "\n",
    "---"
   ]
  },
  {
   "cell_type": "markdown",
   "metadata": {},
   "source": [
    "- Importance of data quality\n",
    "- Data pipeline: data collection, ingestion and preparation\n",
    "- Data collection and monitoring\n",
    "\n",
    "## Importance of Data.\n",
    "\n",
    "- Models aren't magic\n",
    "- Meaningful data: Maximize predictive content, remove non-informative data, feature space coverage\n",
    "\n",
    "<img src = \"https://i.gyazo.com/3f709915337809fcfbeb758a30e107f0.png\" width = \"500px\">\n",
    "\n",
    "### Key Points\n",
    "\n",
    "- Unsdertand users, translate user need into data problems\n",
    "- Ensure data coverage and high predictive signal\n",
    "- Source, store and monitor quality data responsibly\n",
    "\n",
    "### Data availability and collection\n",
    "- What kind of/how much data is available?\n",
    "- How often does the new data come in?\n",
    "- Is it annotated? If not, how hard/expensive is it to get it labeled?\n",
    "\n",
    "### Translate user needs into data needs\n",
    "- Data needed\n",
    "- Features needed\n",
    "- Labels needed"
   ]
  },
  {
   "cell_type": "code",
   "execution_count": null,
   "metadata": {},
   "outputs": [],
   "source": []
  },
  {
   "cell_type": "code",
   "execution_count": null,
   "metadata": {},
   "outputs": [],
   "source": []
  }
 ],
 "metadata": {
  "kernelspec": {
   "display_name": "Python 3",
   "language": "python",
   "name": "python3"
  },
  "language_info": {
   "codemirror_mode": {
    "name": "ipython",
    "version": 3
   },
   "file_extension": ".py",
   "mimetype": "text/x-python",
   "name": "python",
   "nbconvert_exporter": "python",
   "pygments_lexer": "ipython3",
   "version": "3.7.3"
  }
 },
 "nbformat": 4,
 "nbformat_minor": 4
}
