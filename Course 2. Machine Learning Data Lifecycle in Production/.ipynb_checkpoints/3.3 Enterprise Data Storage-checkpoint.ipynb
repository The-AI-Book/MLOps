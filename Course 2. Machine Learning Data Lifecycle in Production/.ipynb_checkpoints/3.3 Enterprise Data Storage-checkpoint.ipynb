{
 "cells": [
  {
   "cell_type": "markdown",
   "metadata": {},
   "source": [
    "# Week 3. Enterprise Data Storage\n",
    "\n",
    "---\n",
    "\n",
    "## Feature stores\n",
    "\n",
    "---\n",
    "\n",
    "Is a central repository for storing documented, curated and access controlled features. Using a feature store enables teams to share, discover and use highly curated features.\n",
    "\n",
    "- Many modeling problems use identifical or similar features.\n",
    "\n",
    "Feature engineering $\\Longrightarrow$ Feature Store $\\Longrightarrow$ Model development\n",
    "\n",
    "- Avoid duplication\n",
    "- Control access\n",
    "- Pruge \n",
    "\n",
    "### Onlie feature usage\n",
    "\n",
    "- Low latency access to features\n",
    "- Features difficult to compute online\n",
    "- Precompute and store for low latency access\n",
    "\n",
    "### Feature for online serving - Batch\n",
    "\n",
    "- Batch precomputing \n",
    "- Loading history\n",
    "\n",
    "1. Simple and efficient\n",
    "2. Works well for features to only be updated every few hours or once a day\n",
    "3. Same data used for train and serving\n",
    "\n",
    "### Feature store: key aspects\n",
    "\n",
    "- Managing feature data from a single person to large enterprises\n",
    "- Scalable and performant access to feature data in training and serving"
   ]
  },
  {
   "cell_type": "code",
   "execution_count": null,
   "metadata": {},
   "outputs": [],
   "source": []
  }
 ],
 "metadata": {
  "kernelspec": {
   "display_name": "Python 3",
   "language": "python",
   "name": "python3"
  },
  "language_info": {
   "codemirror_mode": {
    "name": "ipython",
    "version": 3
   },
   "file_extension": ".py",
   "mimetype": "text/x-python",
   "name": "python",
   "nbconvert_exporter": "python",
   "pygments_lexer": "ipython3",
   "version": "3.7.3"
  }
 },
 "nbformat": 4,
 "nbformat_minor": 4
}
