{
 "cells": [
  {
   "cell_type": "markdown",
   "metadata": {},
   "source": [
    "# Week 4 Optional References\n",
    "https://www.snorkel.org/Week 4: Advanced Labeling, Augmentation and Data Preprocessing\n",
    "This is a compilation of resources including URLs and papers appearing in lecture videos.\n",
    "\n",
    "<a href = \"https://twitter.com/jeffdean/status/1106325994913189888?lang=en\">Hand Labeling</a>\n",
    "\n",
    "<a href = \"https://dawn.cs.stanford.edu/2017/07/16/weak-supervision/\">Weak supervision</a>\n",
    "\n",
    "<a href = \"https://www.snorkel.org/\">Snorkel</a>\n",
    "\n",
    "<a href = \"https://ai.googleblog.com/2018/06/improving-deep-learning-performance.html\">How do you get more data?</a>\n",
    "\n",
    "<a href = \"https://github.com/google-research/uda\">Advanced Techniques</a>\n",
    "\n",
    "<a href = \"https://www.tensorflow.org/lite/examples/image_classification/overview\">Images in tensorflow</a>\n",
    "\n",
    "CIFAR-10\n",
    "\n",
    "https://www.cs.toronto.edu/~kriz/cifar.html\n",
    "\n",
    "https://www.tensorflow.org/datasets/catalog/cifar10\n",
    "\n",
    "<a href = \"https://www.bgc-jena.mpg.de/wetter/\">Weather dataset</a>\n",
    "\n",
    "<a href = \"https://www.cis.fordham.edu/wisdm/dataset.php\">Human Activity Recognition</a>\n",
    "\n",
    "Papers\n",
    "\n",
    "Label Propagation:\n",
    "\n",
    "Iscen, A., Tolias, G., Avrithis, Y., & Chum, O. (2019). Label propagation for deep semi-supervised learning. https://arxiv.org/pdf/1904.04717.pdf\n",
    "\n"
   ]
  },
  {
   "cell_type": "code",
   "execution_count": null,
   "metadata": {},
   "outputs": [],
   "source": []
  }
 ],
 "metadata": {
  "kernelspec": {
   "display_name": "Python 3",
   "language": "python",
   "name": "python3"
  },
  "language_info": {
   "codemirror_mode": {
    "name": "ipython",
    "version": 3
   },
   "file_extension": ".py",
   "mimetype": "text/x-python",
   "name": "python",
   "nbconvert_exporter": "python",
   "pygments_lexer": "ipython3",
   "version": "3.7.3"
  }
 },
 "nbformat": 4,
 "nbformat_minor": 4
}
