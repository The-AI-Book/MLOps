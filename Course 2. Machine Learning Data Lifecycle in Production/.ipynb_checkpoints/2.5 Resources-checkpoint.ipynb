{
 "cells": [
  {
   "cell_type": "markdown",
   "metadata": {},
   "source": [
    "# Week 2 Optional References\n",
    "## Week 2: Feature Engineering, Transformation and Selection\n",
    "If you wish to dive more deeply into the topics covered this week, feel free to check out these optional references. You won’t have to read these to complete this week’s practice quizzes.\n",
    "\n",
    "<a href = \"https://developers.google.com/machine-learning/crash-course/representation/feature-engineering\">Mapping raw data into feature</a>\n",
    "\n",
    "<a href = \"https://www.commonlounge.com/discussion/3ce75d036e924c70ab7e47f534ec40fc/history\">Feature engineering techniques</a>\n",
    "\n",
    "<a href = \"\">Scaling</a>\n",
    "\n",
    "<a href = \"https://pair-code.github.io/facets/\">Facets</a>\n",
    "\n",
    "<a href = \"http://projector.tensorflow.org/\">Embedding projector</a>\n",
    "\n",
    "<a href = \"https://developers.google.com/machine-learning/crash-course/feature-crosses/encoding-nonlinearity\">Encoding features</a>\n",
    "\n",
    "TFX:\n",
    "\n",
    "https://www.tensorflow.org/tfx/guide#tfx_pipelines\n",
    "\n",
    "https://ai.googleblog.com/2017/02/preprocessing-for-machine-learning-with.html\n",
    "\n",
    "<a href = \"\">Breast Cancer Dataset</a>"
   ]
  },
  {
   "cell_type": "code",
   "execution_count": null,
   "metadata": {},
   "outputs": [],
   "source": []
  }
 ],
 "metadata": {
  "kernelspec": {
   "display_name": "Python 3",
   "language": "python",
   "name": "python3"
  },
  "language_info": {
   "codemirror_mode": {
    "name": "ipython",
    "version": 3
   },
   "file_extension": ".py",
   "mimetype": "text/x-python",
   "name": "python",
   "nbconvert_exporter": "python",
   "pygments_lexer": "ipython3",
   "version": "3.7.3"
  }
 },
 "nbformat": 4,
 "nbformat_minor": 4
}
