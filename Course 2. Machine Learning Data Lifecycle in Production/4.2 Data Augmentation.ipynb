{
 "cells": [
  {
   "cell_type": "markdown",
   "metadata": {},
   "source": [
    "# Week 4. Data Augmentation\n",
    "---\n",
    "\n",
    "## Outline\n",
    "---\n",
    "\n",
    "- Generating synthetic data\n",
    "- Other methods\n",
    "\n",
    "### How do you get more data?\n",
    "---\n",
    "\n",
    "- Augmentation as a way to expand datasets\n",
    "- One way is introducing minor alterations\n",
    "- For images: flips, rotations, etc.\n",
    "\n",
    "### How does augmentation data help?\n",
    "- Add examples that are similar to real examples\n",
    "- Improves coverage of feature space\n",
    "- Beware of invalid augmentations!\n",
    "\n",
    "### Advanced techniques\n",
    "\n",
    "- Semi-supervised data augmentation e.g, UDA, semi-supervised learning with GANs\n",
    "- Policy-based data augmentation e.g., AutoAugment\n",
    "\n",
    "## Key points\n",
    "\n",
    "<img src = \"https://i.gyazo.com/34abb109bf381092488e56ce4a779a52.png\" width = \"500px\">"
   ]
  },
  {
   "cell_type": "code",
   "execution_count": null,
   "metadata": {},
   "outputs": [],
   "source": []
  }
 ],
 "metadata": {
  "kernelspec": {
   "display_name": "Python 3",
   "language": "python",
   "name": "python3"
  },
  "language_info": {
   "codemirror_mode": {
    "name": "ipython",
    "version": 3
   },
   "file_extension": ".py",
   "mimetype": "text/x-python",
   "name": "python",
   "nbconvert_exporter": "python",
   "pygments_lexer": "ipython3",
   "version": "3.7.3"
  }
 },
 "nbformat": 4,
 "nbformat_minor": 4
}
