{
 "cells": [
  {
   "cell_type": "markdown",
   "metadata": {},
   "source": [
    "# Week 3 Optional References\n",
    "## Week 3: Data Journey and Data Storage \n",
    "If you wish to dive more deeply into the topics covered this week, feel free to check out these optional references. You won’t have to read these to complete this week’s practice quizzes.\n",
    "\n",
    "Data Versioning:\n",
    "\n",
    "https://dvc.org/\n",
    "\n",
    "https://git-lfs.github.com/\n",
    "\n",
    "ML Metadata:\n",
    "\n",
    "https://www.tensorflow.org/tfx/guide/mlmd#data_model\n",
    "\n",
    "https://www.tensorflow.org/tfx/guide/understanding_custom_components\n",
    "\n",
    "Chicago taxi trips data set: \n",
    "\n",
    "https://data.cityofchicago.org/Transportation/Taxi-Trips/wrvz-psew/data\n",
    "\n",
    "https://archive.ics.uci.edu/ml/datasets/covertype\n",
    "\n",
    "Feast:\n",
    "\n",
    "https://cloud.google.com/blog/products/ai-machine-learning/introducing-feast-an-open-source-feature-store-for-machine-learning\n",
    "\n",
    "https://github.com/feast-dev/feast\n",
    "\n",
    "https://www.gojek.io/blog/feast-bridging-ml-models-and-data\n",
    "\n"
   ]
  },
  {
   "cell_type": "code",
   "execution_count": null,
   "metadata": {},
   "outputs": [],
   "source": []
  }
 ],
 "metadata": {
  "kernelspec": {
   "display_name": "Python 3",
   "language": "python",
   "name": "python3"
  },
  "language_info": {
   "codemirror_mode": {
    "name": "ipython",
    "version": 3
   },
   "file_extension": ".py",
   "mimetype": "text/x-python",
   "name": "python",
   "nbconvert_exporter": "python",
   "pygments_lexer": "ipython3",
   "version": "3.7.3"
  }
 },
 "nbformat": 4,
 "nbformat_minor": 4
}
