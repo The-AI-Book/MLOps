{
 "cells": [
  {
   "cell_type": "markdown",
   "metadata": {},
   "source": [
    "# Week 1. Labeling Data\n",
    "\n",
    "---\n",
    "\n",
    "<img src  =\"https://i.gyazo.com/20f7abdf5b9aa3be0cfdbdc5813ac0da.png\">\n",
    "<img src = \"https://i.gyazo.com/76fe0c26c2798c84714aa6956effcbef.png\">\n",
    "\n",
    "- Mispredictions do not have uniform **cost** to your business\n",
    "- The **data you have** is rarely the data you wish you had\n",
    "- Model objective is nearly always a **proxy** for your business objectives\n",
    "- Some percentage of your customers may have a **bad experience**\n",
    "\n",
    "### The real world does not stay still!\n",
    "\n",
    "## Data and Concept Change in Production ML\n",
    "---\n",
    "Detecting problems with deployed models: \n",
    "- Data and concept change.\n",
    "- Monitor models and validate data to find problems early\n",
    "- Changing ground truth: label new training data\n",
    "- Changing ground truth: Easy problems, harder problems, really hard problems\n",
    "\n",
    "### Key points\n",
    "- Model performance decays over time: Data and Concept Drift\n",
    "- Model retraining helps to improve performance: Data labeling for changing ground truth and scarce labels\n"
   ]
  },
  {
   "cell_type": "markdown",
   "metadata": {},
   "source": [
    "## Process Feedback and Human Labeling\n",
    "\n",
    "---\n",
    "\n",
    "Variety of Methods:\n",
    "- Process Feedback (Direct Labeling)\n",
    "- Human Labeling\n",
    "\n",
    "### Why is labeling important in production ML?\n",
    "- Using business/organization available data\n",
    "- Frequent model retraining\n",
    "- Labeling ongoing and critical process\n",
    "- Creating a training dataset requires labels\n",
    "\n",
    "<img src = \"https://i.gyazo.com/1958e00431c957b9c47ff405e3f93f0d.png\">\n",
    "\n",
    "### Process feedback (disadvantages)\n",
    "- Hindered by inherent nature of the problem\n",
    "- Failure to capture grouth truth\n",
    "- Largely bespoke design\n",
    "\n",
    "### Human labeling (advantages)\n",
    "\n",
    "- More labels\n",
    "- Pure supervised learning\n",
    "\n",
    "### Human labeling (disadvantages)\n",
    "- Quality consistency\n",
    "- Slow\n",
    "- Expensive\n",
    "- Small dataset curation"
   ]
  },
  {
   "cell_type": "code",
   "execution_count": null,
   "metadata": {},
   "outputs": [],
   "source": []
  }
 ],
 "metadata": {
  "kernelspec": {
   "display_name": "Python 3",
   "language": "python",
   "name": "python3"
  },
  "language_info": {
   "codemirror_mode": {
    "name": "ipython",
    "version": 3
   },
   "file_extension": ".py",
   "mimetype": "text/x-python",
   "name": "python",
   "nbconvert_exporter": "python",
   "pygments_lexer": "ipython3",
   "version": "3.7.3"
  }
 },
 "nbformat": 4,
 "nbformat_minor": 4
}
