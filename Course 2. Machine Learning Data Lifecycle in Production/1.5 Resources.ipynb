{
 "cells": [
  {
   "cell_type": "markdown",
   "metadata": {},
   "source": [
    "# Week 1 Optional References\n",
    "\n",
    "## Week 1: Collecting, Labeling and Validating Data \n",
    "This is a compilation of optional resources including URLs and papers appearing in lecture videos. If you wish to dive more deeply into the topics covered this week, feel free to check out these optional references. You won’t have to read these to complete this week’s practice quizzes.\n",
    "\n",
    "<a href = \"https://cd.foundation/blog/2020/02/11/announcing-the-cd-foundation-mlops-sig/\">MLops</a>\n",
    "\n",
    "<a href = \"https://karpathy.medium.com/software-2-0-a64152b37c35\">Data 1st class citizen</a>\n",
    "\n",
    "<a href = \"https://pair.withgoogle.com/chapter/data-collection/\">Runners app</a>\n",
    "\n",
    "<a href = \"https://developers.google.com/machine-learning/guides/rules-of-ml\">Rules of ML</a>\n",
    "\n",
    "<a href = \"https://ai.googleblog.com/2018/09/introducing-inclusive-images-competition.html\">Bias in datasets</a>\n",
    "\n",
    "<a href = \"https://www.elastic.co/logstash/\">Logstash</a>\n",
    "\n",
    "<a href = \"https://www.fluentd.org/\">Fluentd</a>\n",
    "\n",
    "<a href = \"https://cloud.google.com/logging/\">Google Cloud Logging</a>\n",
    "\n",
    "<a href = \"https://aws.amazon.com/opensearch-service/\">AWS ElasticSearch</a>\n",
    "\n",
    "<a href = \"https://azure.microsoft.com/en-us/services/monitor/\">Azure Monitor</a>\n",
    "\n",
    "<a href = \"https://blog.tensorflow.org/2018/09/introducing-tensorflow-data-validation.html\">TFDV</a>\n",
    "\n",
    "<a href = \"https://en.wikipedia.org/wiki/Chebyshev_distance\">Chebyshev distance</a>\n",
    "\n",
    "**Papers**\n",
    "\n",
    "Konstantinos, Katsiapis, Karmarkar, A., Altay, A., Zaks, A., Polyzotis, N., … Li, Z. (2020). Towards ML Engineering: A brief history of TensorFlow Extended (TFX). http://arxiv.org/abs/2010.02013 \n",
    "\n",
    "Paleyes, A., Urma, R.-G., & Lawrence, N. D. (2020). Challenges in deploying machine learning: A survey of case studies. http://arxiv.org/abs/2011.09926\n",
    "\n",
    "ML code fraction:\n",
    "\n",
    "Sculley, D., Holt, G., Golovin, D., Davydov, E., & Phillips, T. (n.d.). Hidden technical debt in machine learning systems. Retrieved April 28, 2021, from Nips.cc https://papers.nips.cc/paper/2015/file/86df7dcfd896fcaf2674f757a2463eba-Paper.pdf\n",
    "\n"
   ]
  },
  {
   "cell_type": "code",
   "execution_count": null,
   "metadata": {},
   "outputs": [],
   "source": []
  }
 ],
 "metadata": {
  "kernelspec": {
   "display_name": "Python 3",
   "language": "python",
   "name": "python3"
  },
  "language_info": {
   "name": ""
  }
 },
 "nbformat": 4,
 "nbformat_minor": 4
}
