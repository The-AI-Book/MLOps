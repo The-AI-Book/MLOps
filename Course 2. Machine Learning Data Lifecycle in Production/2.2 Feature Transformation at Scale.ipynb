{
 "cells": [
  {
   "cell_type": "markdown",
   "metadata": {},
   "source": [
    "# Week 2. Feature Transformation at Scale\n",
    "\n",
    "---"
   ]
  },
  {
   "cell_type": "markdown",
   "metadata": {},
   "source": [
    "## Outline\n",
    "\n",
    "- Inconsistencies in feature engineering\n",
    "- Preprocessing granularity\n",
    "- Pre-processing training dataset\n",
    "- Optimizing instance-level transformation\n",
    "- Summarizing the challenges\n",
    "\n",
    "## Preprocessing data at scale\n",
    "- Real-world models: terabytes of data\n",
    "- Large-scale data processing frameworks\n",
    "- Consistent transforms between training & serving\n",
    "\n",
    "## Inconsistencies in feature engineering\n",
    "- Training & serving code paths are different\n",
    "- Diverse deployments scenarios: Mobile, Server, Web\n",
    "- Risk of introducing training-serving skews\n",
    "- Skews will lovwer the performance of your serving model\n",
    "\n",
    "## Preprocessing granularity\n",
    "\n",
    "<img src = \"https://i.gyazo.com/31bb06db10db3882dceab57425f5e861.png\" width = \"600px\">\n",
    "\n",
    "## When do you transform?\n",
    "Pre-processign training dataset\n",
    "\n",
    "<img src = \"https://i.gyazo.com/4edfff1c43f3442a39facd0d6370a4b0.png\" width = \"600px\">\n",
    "\n",
    "## How about 'within' a model?\n",
    "\n",
    "Transforming within the model\n",
    "\n",
    "<img src = \"https://i.gyazo.com/cf8e989deaf5f4bc77de3aa4f4b373a9.png\" width = \"600px\">\n",
    "\n",
    "## Why transform per batch?\n",
    "- For example, normalizing features by their average\n",
    "- Acces to a single batch of data, not the full dataset\n",
    "- Ways to normalize per batch\n",
    "\n",
    "## Optimizing instance-level transformations\n",
    "- Indirectly affect training efficiency\n",
    "- Typically accelerator sit idle while the CPUs transform\n",
    "- Solucion: Prefetching transforms for better accelerator efficiency\n",
    "\n",
    "\n",
    "## Key points\n",
    "---\n",
    "- Inconsistent data affects the accuracy of the results\n",
    "- Need for scaled data processing frameworks to process large datasets in an efficient and distributed manner"
   ]
  }
 ],
 "metadata": {
  "kernelspec": {
   "display_name": "Python 3",
   "language": "python",
   "name": "python3"
  },
  "language_info": {
   "codemirror_mode": {
    "name": "ipython",
    "version": 3
   },
   "file_extension": ".py",
   "mimetype": "text/x-python",
   "name": "python",
   "nbconvert_exporter": "python",
   "pygments_lexer": "ipython3",
   "version": "3.7.3"
  }
 },
 "nbformat": 4,
 "nbformat_minor": 4
}
