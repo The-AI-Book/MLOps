{
 "cells": [
  {
   "cell_type": "markdown",
   "metadata": {},
   "source": [
    "# Week 1. Validating Data\n",
    "\n",
    "---\n",
    "\n",
    "<img src = \"https://i.gyazo.com/ffbe29295481bf709b91f0d7f607fc51.png2\" width = \"500px\">\n",
    "\n",
    "- **Model Decay:** Data drift\n",
    "\n",
    "<img src = \"https://i.gyazo.com/6cebc1af7d47b5250ddebcbf5e5b5bcd.png\" width = \"500px\">\n",
    "\n",
    "- **Performance decay:** Concept drift\n",
    "\n",
    "<img src = \"https://i.gyazo.com/6eeea6b2a44b0d24690766036780662f.png\" width = \"500px\">\n",
    "\n",
    "## Detecting data issues\n",
    "\n",
    "Detecting schema skew\n",
    "- Training and serving data do not conform to the same schema\n",
    "Detecting distribution skew\n",
    "- Dataset shift, covariate or concept shift\n",
    "- Requieres continuos evaluation\n",
    "\n",
    "\n",
    "<img src = \"https://i.gyazo.com/ca331d9dfa97fdcbf8d71093ab8886fd.png\" width = \"600px\">\n",
    "\n",
    "### Skew detection workflow\n",
    "\n",
    "<img src = \"https://i.gyazo.com/07a88ee6707ae545f43625fbb130b1bf.png\" width = \"600px\">\n",
    "\n",
    "#### Schema skew\n",
    "---\n",
    "Serving and training data don't conform to same schema. \n",
    "- For example, int != float\n",
    "\n",
    "#### Feature skew\n",
    "---\n",
    "\n",
    "Trainig **feature values** are different than the serving **feature values**:\n",
    "- Feature values are modified between training and serving time\n",
    "- Transformation applied only in one of the two instances\n",
    "\n",
    "#### Distribution skew\n",
    "---\n",
    "\n",
    "**Distribution** of serving and training dataset is significantly different:\n",
    "- Faulty sampling method during training\n",
    "- Different datasources for training and serving data\n",
    "- Trend, seasonability, changes in data over time\n",
    "\n",
    "### Key points.\n",
    "- TFDV: Descriptive statistic at scale with the embedded facet visualization\n",
    "It provides insight into:\n",
    "- What are the underlying statistic of your data\n",
    "- How does your training, evaluation, and serving dataset statistics compare\n",
    "- How can you detect and fix data anomalies"
   ]
  },
  {
   "cell_type": "code",
   "execution_count": null,
   "metadata": {},
   "outputs": [],
   "source": []
  }
 ],
 "metadata": {
  "kernelspec": {
   "display_name": "Python 3",
   "language": "python",
   "name": "python3"
  },
  "language_info": {
   "codemirror_mode": {
    "name": "ipython",
    "version": 3
   },
   "file_extension": ".py",
   "mimetype": "text/x-python",
   "name": "python",
   "nbconvert_exporter": "python",
   "pygments_lexer": "ipython3",
   "version": "3.7.3"
  }
 },
 "nbformat": 4,
 "nbformat_minor": 4
}
