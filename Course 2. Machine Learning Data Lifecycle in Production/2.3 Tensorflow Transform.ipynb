{
 "cells": [
  {
   "cell_type": "markdown",
   "metadata": {},
   "source": [
    "# Week 2. TensorFlow Transform\n",
    "\n",
    "---"
   ]
  },
  {
   "cell_type": "markdown",
   "metadata": {},
   "source": [
    "## Outline\n",
    "\n",
    "- Going deeper\n",
    "- Benefits of using TensorFlow Transform\n",
    "- Applies feature transformations\n",
    "- tf.Transform Analyzers\n",
    "\n",
    "<img src = \"https://i.gyazo.com/abb418d98e13403db79b307958c5ec8b.png\">\n",
    "<img src = \"https://i.gyazo.com/cf4619f4f20e4f5072375dfd7ad1efbd.png\">\n",
    "<img src = \"https://i.gyazo.com/6b0a5a61c802e1d14f7a02edbd0e2d2a.png\">\n",
    "<img src = \"https://i.gyazo.com/a67b3bb54d042dc0a898cc96a27fd158.png\">\n",
    "<img src = \"https://i.gyazo.com/2a65d12c6eb1fc79cddf79b035f060c9.png\">\n",
    "<img src = \"https://i.gyazo.com/fde96aba64c64c387d9a765293531544.png\">"
   ]
  },
  {
   "cell_type": "code",
   "execution_count": null,
   "metadata": {},
   "outputs": [],
   "source": []
  }
 ],
 "metadata": {
  "kernelspec": {
   "display_name": "Python 3",
   "language": "python",
   "name": "python3"
  },
  "language_info": {
   "codemirror_mode": {
    "name": "ipython",
    "version": 3
   },
   "file_extension": ".py",
   "mimetype": "text/x-python",
   "name": "python",
   "nbconvert_exporter": "python",
   "pygments_lexer": "ipython3",
   "version": "3.7.3"
  }
 },
 "nbformat": 4,
 "nbformat_minor": 4
}
