{
 "cells": [
  {
   "cell_type": "markdown",
   "metadata": {},
   "source": [
    "# Experiment Tracking\n",
    "Learn more about experiment tracking by checking this two resources out:\n",
    "\n",
    "<a href = \"https://towardsdatascience.com/machine-learning-experiment-tracking-93b796e501b0\">Machine Learning Experiment Tracking</a>\n",
    "\n",
    "<a href = \"https://neptune.ai/blog/experiment-management\">Machine Learning Experiment Management: How to Organize Your Model Development Process</a>\n",
    "\n",
    "# MLOps Resources\n",
    "If you want to learn more about MLOps check this <a href = \"https://neptune.ai/blog/mlops-what-it-is-why-it-matters-and-how-to-implement-it-from-a-data-scientist-perspective\">blog</a> out, and visit this curated <a href = \"https://github.com/visenger/awesome-mlops\">list</a> of references  for more information, ideas, and tools.\n",
    "\n",
    "# Ungraded Lab: Intro to Kubeflow Pipelines\n",
    "In this lab, you will familiarize yourself with Kubeflow Pipelines, a platform for building and organizing machine learning workflows. You will be using this as well in the Qwiklabs this week so it's good to practice using it. Please click on the link below to start the lab.\n",
    "\n",
    "Launch Colab! (C4_W3_LAB_1)\n",
    "\n",
    "\n",
    "# Architecture for MLOps using TFX, Kubeflow Pipelines, and Cloud Build\n",
    "To learn more about MLOps using TFX please check this <a href = \"https://cloud.google.com/architecture/architecture-for-mlops-using-tfx-kubeflow-pipelines-and-cloud-build\">document</a> out.\n",
    "\n",
    "# Ungraded Lab: Developing TFX Custom Components\n",
    "In this lab, you will practice some of the methods discussed in building TFX components. Namely, you will develop a custom component to filter a dataset, then reuse the standard CsvExampleGen to make another custom component. Please click on the link below to start the lab.\n",
    "\n",
    "Launch Colab! (C4_W3_LAB_2)\n",
    "\n",
    "# Ungraded Lab - Model Versioning with TF Serving\n",
    "During this lab you will see how you can use Tensorflow Serving to host different versions of your models either by numerical versioning or by using labels.\n",
    "\n",
    "Follow this <a href = \"https://github.com/https-deeplearning-ai/machine-learning-engineering-for-production-public/blob/main/course4/week3-ungraded-labs/C4_W3_Lab_3_TFS_Model_Versioning/README.md\">link</a> to start the lab!\n",
    "\n",
    "# ML Model Management\n",
    "Take a deeper dive into managing ML model versions by checking this <a href = \"https://neptune.ai/blog/machine-learning-model-management\">blog</a> out.\n",
    "\n",
    "# Ungraded Lab - CI/CD pipelines with GitHub Actions\n",
    "During this lab you will work with GitHub Actions to configure and run your own CI/CD pipelines to unit test the webserver you coded in a previous ungraded lab.\n",
    "\n",
    "Follow this <a href = \"https://github.com/https-deeplearning-ai/machine-learning-engineering-for-production-public/blob/main/course4/week3-ungraded-labs/C4_W3_Lab_4_Github_Actions/README.md\">link</a> to start the lab!\n",
    "\n",
    "# Continuous Delivery\n",
    "Explore this <a href = \"https://continuousdelivery.com/\">website</a> to learn more about continuous delivery.\n",
    "\n",
    "# Progressive Delivery\n",
    "Explore more about progressive delivery with Kubernetes operators allowing for minimum downtime and easy rollbacks in this <a href = \"https://codefresh.io/docs/docs/ci-cd-guides/progressive-delivery/\">documentation</a>.\n",
    "\n",
    " "
   ]
  },
  {
   "cell_type": "code",
   "execution_count": null,
   "metadata": {},
   "outputs": [],
   "source": []
  }
 ],
 "metadata": {
  "kernelspec": {
   "display_name": "Python 3",
   "language": "python",
   "name": "python3"
  },
  "language_info": {
   "codemirror_mode": {
    "name": "ipython",
    "version": 3
   },
   "file_extension": ".py",
   "mimetype": "text/x-python",
   "name": "python",
   "nbconvert_exporter": "python",
   "pygments_lexer": "ipython3",
   "version": "3.7.3"
  }
 },
 "nbformat": 4,
 "nbformat_minor": 4
}
