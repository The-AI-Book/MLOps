{
 "cells": [
  {
   "cell_type": "markdown",
   "metadata": {},
   "source": [
    "# Week 2. Online Inference\n",
    "---\n",
    "\n",
    "<img src = \"https://i.gyazo.com/e3a84d3b4e9ab906de0ae6a45588c176.png\" width = \"600px\">\n",
    "<img src = \"https://i.gyazo.com/63007fc6bf8ade2f8469110508b3c315.png\" width = \"500px\">\n",
    "<img src = \"https://i.gyazo.com/808bedbe92a3a6f242e1ff9ee011e86b.png\" width = \"500px\">\n",
    "<img src = \"https://i.gyazo.com/c4731c02b003093c2f49d42cf0b443fe.png\" width = \"600px\">"
   ]
  },
  {
   "cell_type": "code",
   "execution_count": null,
   "metadata": {},
   "outputs": [],
   "source": []
  }
 ],
 "metadata": {
  "kernelspec": {
   "display_name": "Python 3",
   "language": "python",
   "name": "python3"
  },
  "language_info": {
   "codemirror_mode": {
    "name": "ipython",
    "version": 3
   },
   "file_extension": ".py",
   "mimetype": "text/x-python",
   "name": "python",
   "nbconvert_exporter": "python",
   "pygments_lexer": "ipython3",
   "version": "3.7.3"
  }
 },
 "nbformat": 4,
 "nbformat_minor": 4
}
