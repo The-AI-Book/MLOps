{
 "cells": [
  {
   "cell_type": "markdown",
   "metadata": {},
   "source": [
    "# Model Monitoring and Logging\n",
    "\n",
    "## Monitoring Machine Learning Models in Production\n",
    "---\n",
    "Check this <a href = \"https://christophergs.com/machine%20learning/2020/03/14/how-to-monitor-machine-learning-models/\">resource</a> out to learn more about ML monitoring and logging.\n",
    "\n",
    "# Model Decay\n",
    "\n",
    "## Addressing Model Decay\n",
    "---\n",
    "Check this <a href = \"https://neptune.ai/blog/retraining-model-during-deployment-continuous-training-continuous-testing\">blog</a> out to figure out best retraining strategies toi prevent model decay.\n",
    "\n",
    "# GDPR and Privacy\n",
    "\n",
    "## Responsible AI\n",
    "New technologies always bring new challenges. Ensuring that your applications adhere to responsible AI is a must. Please read this <a href = \"https://ai.google/responsibilities/responsible-ai-practices/\">resource</a> to keep yourself updated with this fascinating active research  subject.\n",
    "\n",
    "## GDPR and CCPA\n",
    "---\n",
    "Check the <a href = \"https://gdpr.eu/\">GDPR</a> and <a href = \"https://oag.ca.gov/\">CCPA</a> websites out to learn more about its regulations and compliance. \n",
    "\n"
   ]
  },
  {
   "cell_type": "code",
   "execution_count": null,
   "metadata": {},
   "outputs": [],
   "source": []
  }
 ],
 "metadata": {
  "kernelspec": {
   "display_name": "Python 3",
   "language": "python",
   "name": "python3"
  },
  "language_info": {
   "codemirror_mode": {
    "name": "ipython",
    "version": 3
   },
   "file_extension": ".py",
   "mimetype": "text/x-python",
   "name": "python",
   "nbconvert_exporter": "python",
   "pygments_lexer": "ipython3",
   "version": "3.7.3"
  }
 },
 "nbformat": 4,
 "nbformat_minor": 4
}
