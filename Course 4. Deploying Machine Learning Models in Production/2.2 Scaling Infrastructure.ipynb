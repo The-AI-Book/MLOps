{
 "cells": [
  {
   "cell_type": "markdown",
   "metadata": {},
   "source": [
    "# Week 2. Scaling Infrastructure\n",
    "---\n",
    "\n",
    "### Vertical Scaling\n",
    "<img src = \"https://i.gyazo.com/8a5c2ed9d34b1941a387da33251f808b.png\" width = \"500px\">\n",
    "\n",
    "### Horizontal Scaling\n",
    "<img src = \"https://i.gyazo.com/4f337e5ddda16c84e53d465a5174b61d.png\" width = \"500px\">\n",
    "\n",
    "### Why Horizontal Over Vertical Scaling\n",
    "<img src = \"https://i.gyazo.com/9830c09d7b8438c9df2d2d7dca3b786b.png\" width = \"500px\">\n",
    "\n",
    "<img src = \"https://i.gyazo.com/f9b764c0f4022f27bb3421d78d19c8d6.png\" width = \"600px\">\n",
    "<img src = \"https://i.gyazo.com/e4fd31685ea1a45f871716c0fc400381.png\" width = \"500px\">\n",
    "<img src = \"https://i.gyazo.com/d82cd16a5b17bcb8f043f4a69374d85a.png\" width = \"500px\">"
   ]
  },
  {
   "cell_type": "code",
   "execution_count": null,
   "metadata": {},
   "outputs": [],
   "source": []
  }
 ],
 "metadata": {
  "kernelspec": {
   "display_name": "Python 3",
   "language": "python",
   "name": "python3"
  },
  "language_info": {
   "codemirror_mode": {
    "name": "ipython",
    "version": 3
   },
   "file_extension": ".py",
   "mimetype": "text/x-python",
   "name": "python",
   "nbconvert_exporter": "python",
   "pygments_lexer": "ipython3",
   "version": "3.7.3"
  }
 },
 "nbformat": 4,
 "nbformat_minor": 4
}
