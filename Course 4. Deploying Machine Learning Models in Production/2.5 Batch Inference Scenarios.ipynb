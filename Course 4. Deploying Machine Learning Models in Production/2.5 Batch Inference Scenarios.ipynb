{
 "cells": [
  {
   "cell_type": "markdown",
   "metadata": {},
   "source": [
    "# Week 2. Batch Inference Scenarios \n",
    "---\n",
    "\n",
    "<img src = \"https://i.gyazo.com/b96f68d824600541ca1d76dd202f4993.png\" width = \"600px\">\n",
    "<img src = \"https://i.gyazo.com/d89ce0d501dbaad45cf465fe9c76b331.png\" width = \"600px\">\n",
    "<img src = \"https://i.gyazo.com/1f4e7ab0e9456549817095f61d582229.png\" width = \"600px\">\n",
    "<img src = \"https://i.gyazo.com/65fcd61c55f7a345f9cab9094241ac38.png\" width = \"600px\">\n",
    "<img src = \"https://i.gyazo.com/3bd2b720f95a1b76089107e214648f89.png\" width = \"600px\">\n",
    "<img src = \"https://i.gyazo.com/acb9e5278207aee60fb3cca8e4b693b9.png\" width = \"600px\">\n",
    "<img src = \"https://i.gyazo.com/d3a1a7ee3bc3994736fe5cd6482bb9d4.png\" width = \"600px\">"
   ]
  },
  {
   "cell_type": "code",
   "execution_count": null,
   "metadata": {},
   "outputs": [],
   "source": []
  }
 ],
 "metadata": {
  "kernelspec": {
   "display_name": "Python 3",
   "language": "python",
   "name": "python3"
  },
  "language_info": {
   "codemirror_mode": {
    "name": "ipython",
    "version": 3
   },
   "file_extension": ".py",
   "mimetype": "text/x-python",
   "name": "python",
   "nbconvert_exporter": "python",
   "pygments_lexer": "ipython3",
   "version": "3.7.3"
  }
 },
 "nbformat": 4,
 "nbformat_minor": 4
}
