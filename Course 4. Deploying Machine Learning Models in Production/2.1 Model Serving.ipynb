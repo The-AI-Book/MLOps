{
 "cells": [
  {
   "cell_type": "markdown",
   "metadata": {},
   "source": [
    "# Week 2. Model Serving: Patterns and Infrastructure\n",
    "---\n",
    "<img src = \"https://i.gyazo.com/f97e82dbaf4a819708dd6914e53cba5c.png\" width = \"500px\">\n",
    "<img src = \"https://i.gyazo.com/6dcf00d947c36ef487b0d27aad68ed55.png\" width = \"500px\">\n",
    "<img src = \"https://i.gyazo.com/ab5825c4df3c2206444352ac3ec5c1a7.png\" width = \"500px\">\n",
    "<img src = \"https://i.gyazo.com/0cdb3fc5806da1c35b31a0034beb0691.png\" width = \"500px\">\n",
    "<img src = \"https://i.gyazo.com/88d5f575a5d4faff390427caf873cb77.png\" width = \"500px\">\n",
    "<img src = \"https://i.gyazo.com/ea54ff40f424579494048f45d4b24750.png\" width = \"500px\">\n",
    "<img src = \"https://i.gyazo.com/b94ea4734765567a62e96cfd7ca1752f.png\" width = \"500px\">\n",
    "<img src = \"https://i.gyazo.com/dce70ed42b931650334bf38763965008.png\" width = \"500px\">"
   ]
  },
  {
   "cell_type": "code",
   "execution_count": null,
   "metadata": {},
   "outputs": [],
   "source": []
  }
 ],
 "metadata": {
  "kernelspec": {
   "display_name": "Python 3",
   "language": "python",
   "name": "python3"
  },
  "language_info": {
   "codemirror_mode": {
    "name": "ipython",
    "version": 3
   },
   "file_extension": ".py",
   "mimetype": "text/x-python",
   "name": "python",
   "nbconvert_exporter": "python",
   "pygments_lexer": "ipython3",
   "version": "3.7.3"
  }
 },
 "nbformat": 4,
 "nbformat_minor": 4
}
