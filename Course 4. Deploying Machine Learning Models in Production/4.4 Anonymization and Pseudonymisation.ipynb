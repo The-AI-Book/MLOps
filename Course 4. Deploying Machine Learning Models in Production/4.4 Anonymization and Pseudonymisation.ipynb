{
 "cells": [
  {
   "cell_type": "markdown",
   "metadata": {},
   "source": [
    "# Week 4. Anonymization and Pseudonymisation\n",
    "---\n",
    "\n",
    "<img src = \"https://i.gyazo.com/d5c97961309f5583c29d1ba673c08c8d.png\" width = \"600px\">\n",
    "<img src = \"https://i.gyazo.com/ab71cc513de8622d73b38ad3a148af19.png\" width = \"600px\">\n",
    "<img src = \"https://i.gyazo.com/ca092fe889c70d8df62cb9f90c7524f1.png\" width = \"600px\">\n",
    "<img src = \"https://i.gyazo.com/e55376088b140176a43a7000184acccb.png\" width = \"600px\">\n",
    "<img src = \"https://i.gyazo.com/5894bcdb241800e8eb5b85572606b358.png\" width = \"600px\">\n",
    "<img src = \"https://i.gyazo.com/0d698c26d3a191a050c1256eabb7b770.png\" width = \"600px\">\n",
    "<img src = \"https://i.gyazo.com/b65069327c0ca48f3477623b04adfdfc.png\" width = \"600px\">\n",
    "<img src = \"https://i.gyazo.com/7f4fb99996f5667d2dff1d89ad3aab11.png\" width = \"600px\">\n",
    "<img src = \"https://i.gyazo.com/462b393a354a1ead80425c27afaeb4f8.png\" width = \"600px\">\n",
    "<img src = \"https://i.gyazo.com/40e3a7861f9c451eb8b59d49db4231f1.png\" width = \"600px\">"
   ]
  },
  {
   "cell_type": "code",
   "execution_count": null,
   "metadata": {},
   "outputs": [],
   "source": []
  }
 ],
 "metadata": {
  "kernelspec": {
   "display_name": "Python 3",
   "language": "python",
   "name": "python3"
  },
  "language_info": {
   "codemirror_mode": {
    "name": "ipython",
    "version": 3
   },
   "file_extension": ".py",
   "mimetype": "text/x-python",
   "name": "python",
   "nbconvert_exporter": "python",
   "pygments_lexer": "ipython3",
   "version": "3.7.3"
  }
 },
 "nbformat": 4,
 "nbformat_minor": 4
}
