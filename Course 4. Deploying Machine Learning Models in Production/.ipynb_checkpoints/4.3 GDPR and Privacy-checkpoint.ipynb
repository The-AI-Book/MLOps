{
 "cells": [
  {
   "cell_type": "markdown",
   "metadata": {},
   "source": [
    "# Week 4. GDPR and Privacy\n",
    "---\n",
    "<img src = \"https://i.gyazo.com/81fabb931d248673b1449139397c4f16.png\" width = \"600px\">\n",
    "<img src = \"https://i.gyazo.com/7fd1aaf9f8ee2843e9cefc48ab42134a.png\" width = \"600px\">\n",
    "<img src = \"https://i.gyazo.com/043b986585ac29805b197bb001aae2f3.png\" width = \"600px\">"
   ]
  }
 ],
 "metadata": {
  "kernelspec": {
   "display_name": "Python 3",
   "language": "python",
   "name": "python3"
  },
  "language_info": {
   "name": ""
  }
 },
 "nbformat": 4,
 "nbformat_minor": 4
}
