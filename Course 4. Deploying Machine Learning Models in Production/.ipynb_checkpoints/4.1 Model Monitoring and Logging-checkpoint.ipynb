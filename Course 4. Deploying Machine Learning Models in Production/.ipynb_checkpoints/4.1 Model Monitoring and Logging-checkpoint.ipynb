{
 "cells": [
  {
   "cell_type": "markdown",
   "metadata": {},
   "source": [
    "# Week 4. Model Monitoring and Logging\n",
    "---\n",
    "\n",
    "<img src = \"https://i.gyazo.com/f844534bd0cbb379897e60a7facbdc39.png\" width = \"600px\">\n",
    "<img src = \"https://i.gyazo.com/e2375ab27fc660afee36ae9dc1371f0c.png\" width = \"600px\">\n",
    "<img src = \"https://i.gyazo.com/b1e9551705ffecbd981a0bda702ac8af.png\" width = \"600px\">\n",
    "\n",
    "## Observability in ML\n",
    "---\n",
    "- Measures how weel the internal states of a system can be inferred by knowing the inputs and outputs\n",
    "- Observability comes from control system theory\n",
    "- Observability and controllability are closely linked\n",
    "\n",
    "<img src = \"https://i.gyazo.com/aae9cb64f39918f297edf37b8e0a2b57.png\" width = \"500px\">\n",
    "<img src = \"https://i.gyazo.com/d5f7aab8ff85a08d488ace18c9250263.png\" width = \"500px\">\n",
    "<img src = \"https://i.gyazo.com/e1d6d43e232e1f21ad8825a2b3fda829.png\" width = \"500px\">\n",
    "\n",
    "## Monitoring Targets in ML\n",
    "---\n",
    "<img src = \"https://i.gyazo.com/39779ecbc0efa4bbadd742150c788a1c.png\" width = \"400px\">\n",
    "<img src = \"https://i.gyazo.com/67fe33d4c538f8dd5eb13ffa81db5194.png\" width = \"500px\">\n",
    "<img src = \"https://i.gyazo.com/ec5fa702d2ec7e1bd7a45875b667cb33.png\" width = \"500px\">\n",
    "<img src = \"https://i.gyazo.com/91a719a5316a3a009070980d3ca937ab.png\" width = \"500px\">\n",
    "\n",
    "## Logging for ML Monitoring\n",
    "---\n",
    "- A log is an immutable time stamped record of discrete events that happened over time for your ML system along with additional information.\n",
    "\n",
    "<img src = \"https://i.gyazo.com/f3a2dab356275d7a3e9ad7cac166dce9.png\" width = \"600px\">\n",
    "<img src = \"https://i.gyazo.com/4ad2933cce51972f06a89477304d5ed6.png\" width = \"500px\">\n",
    "<img src = \"https://i.gyazo.com/8320623e1c181a33c94029232d92c110.png\" width = \"500px\">\n",
    "<img src = \"https://i.gyazo.com/0c477f49cad1a72454647e39536cb86f.png\" width = \"500px\">\n",
    "\n",
    "## Tracing for ML Systems\n",
    "---\n",
    "- Tracing focuses on monitoring and understanding system performance, especially for microservice-based applications.\n",
    "\n",
    "<img src = \"https://i.gyazo.com/edaf4627312ca95695feadc7a9bbe084.png\" width = \"600px\">\n",
    "\n",
    "## Extra\n",
    "- Also known as model decay, staleness refers to a decreased predictive ability due to data evolving over time and potentially introducing previously unseen values requiring new categories."
   ]
  },
  {
   "cell_type": "code",
   "execution_count": null,
   "metadata": {},
   "outputs": [],
   "source": []
  }
 ],
 "metadata": {
  "kernelspec": {
   "display_name": "Python 3",
   "language": "python",
   "name": "python3"
  },
  "language_info": {
   "codemirror_mode": {
    "name": "ipython",
    "version": 3
   },
   "file_extension": ".py",
   "mimetype": "text/x-python",
   "name": "python",
   "nbconvert_exporter": "python",
   "pygments_lexer": "ipython3",
   "version": "3.7.3"
  }
 },
 "nbformat": 4,
 "nbformat_minor": 4
}
