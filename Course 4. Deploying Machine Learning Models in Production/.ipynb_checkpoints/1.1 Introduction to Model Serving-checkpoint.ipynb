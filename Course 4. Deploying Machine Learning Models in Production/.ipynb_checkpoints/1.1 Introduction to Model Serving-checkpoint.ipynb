{
 "cells": [
  {
   "cell_type": "markdown",
   "metadata": {},
   "source": [
    "# Week 1. Introduction to Model Serving.\n",
    "---\n",
    "\n",
    "## What exactly is Serving a Model?\n",
    "\n",
    "- Training a model is only the first part\n",
    "- Make your model available to end user\n",
    "- Provide service or app for interaction\n",
    "\n",
    "### ML workflows\n",
    "- Model training\n",
    "- Model prediction\n",
    "\n",
    "We might have **batch inference** and **realtime inference**\n",
    "\n",
    "### Improtant Metrics\n",
    "- Latency: delay between user's action and repsponse of application to user's action.\n",
    "- Throughput: Number of successful requests server per unit time say one second\n",
    "- Cost: the cost associated with each inference should be minimised\n",
    "- **Minimizing Latency, Maximizing Throughput**\n",
    "\n",
    "### Balance Cost, Latency and Throughpout\n",
    "- Cost increases as infraestructure is scaled\n",
    "- In applications where latency and throughput can suffer slightly\n"
   ]
  },
  {
   "cell_type": "code",
   "execution_count": null,
   "metadata": {},
   "outputs": [],
   "source": []
  }
 ],
 "metadata": {
  "kernelspec": {
   "display_name": "Python 3",
   "language": "python",
   "name": "python3"
  },
  "language_info": {
   "codemirror_mode": {
    "name": "ipython",
    "version": 3
   },
   "file_extension": ".py",
   "mimetype": "text/x-python",
   "name": "python",
   "nbconvert_exporter": "python",
   "pygments_lexer": "ipython3",
   "version": "3.7.3"
  }
 },
 "nbformat": 4,
 "nbformat_minor": 4
}
