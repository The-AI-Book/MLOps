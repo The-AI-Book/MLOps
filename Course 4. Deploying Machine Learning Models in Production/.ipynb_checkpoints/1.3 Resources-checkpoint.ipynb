{
 "cells": [
  {
   "cell_type": "markdown",
   "metadata": {},
   "source": [
    "\n",
    "# Introduction to Model Serving\n",
    "\n",
    "## Ungraded Labs - Best Practices\n",
    "---\n",
    "As you progress through this course you will see that the majority of ungraded labs are hosted in our public repo and are meant to be run in your local machine using a terminal. \n",
    "\n",
    "Some of them do not require you to have a cloned version of the repo but some do. For this reason, we encourage you to clone the repo right away. For the labs that rely on files within the repo, the best way to follow along is to read its documentation from your browser while working on the cloned version of the repo on your local machine.\n",
    "\n",
    "To clone the repo, use the following command:\n",
    "\n",
    "git clone https://github.com/https-deeplearning-ai/machine-learning-engineering-for-production-public.git\n",
    "\n",
    "or for cloning via SSH use:\n",
    "\n",
    "git clone git@github.com:https-deeplearning-ai/machine-learning-engineering-for-production-public.git\n",
    "\n",
    "\n",
    "If you are unsure which method to use, go for the first one.\n",
    "\n",
    "Also, there might be some updates to the course content occasionally so it's best to do a git pull in your local clone once in a while (especially when starting a new exercise). This will ensure that you have the latest version of the files in your loca \n",
    "\n",
    "\n",
    "Have fun in the ungraded labs! \n",
    "\n",
    "## Ungraded Lab - Introduction to Docker\n",
    "---\n",
    "During this lab you will get a high level overview of Docker and some instructions to install it on your local machine.\n",
    "\n",
    "Follow <a href = \"https://github.com/https-deeplearning-ai/machine-learning-engineering-for-production-public/blob/main/course4/week1-ungraded-labs/C4_W1_Lab_1_Docker_Intro.md\">link</a> to start the lab!\n",
    "\n",
    "# Introduction to Model Serving Infrastructure\n",
    "\n",
    "## Optional: Build, train, and deploy an XGBoost model on Cloud AI Platform\n",
    "---\n",
    "\n",
    "This is an optional exercise and will mirror what was shown in the previous screencast. It requires a Google Cloud Platform (GCP) account and we placed instructions in the document in case you don't have one yet. If you can't set up an account at the moment, don't worry because you will still use the same tools in some of the course assignments. You'll be given free use of GCP in those labs. This is mainly here for reference to introduce model serving in the cloud.\n",
    "\n",
    "Click <a href = \"https://github.com/https-deeplearning-ai/machine-learning-engineering-for-production-public/blob/main/course4/week1-ungraded-labs/C4_W1_Optional_Lab_1_XGBoost_CAIP/C4_W1_Optional_Lab_1.md\">here</a> to view the tutorial!\n",
    "\n",
    "# Installing Tensorflow Serving\n",
    "\n",
    "## Ungraded Lab - Tensorflow Serving with Docker\n",
    "---\n",
    "During this lab you will get a first look at using Tensorflow Serving in your local machine with help from Docker.\n",
    "\n",
    "Follow this <a href = \"https://github.com/https-deeplearning-ai/machine-learning-engineering-for-production-public/blob/main/course4/week1-ungraded-labs/C4_W1_Lab_2_TFS_Docker.md\">link</a> to start the lab!\n",
    "\n",
    "## Ungraded Lab - Serve a model with TensorFlow Serving\n",
    "---\n",
    "During this lab you will get to see more of the internals and features of Tensorflow Serving by serving a real model.\n",
    "\n",
    "Follow this <a href = \"https://colab.research.google.com/github/https-deeplearning-ai/machine-learning-engineering-for-production-public/blob/main/course4/week1-ungraded-labs/C4_W1_Lab_3_TFS.ipynb\">link</a> to start the lab!\n",
    "\n"
   ]
  },
  {
   "cell_type": "code",
   "execution_count": null,
   "metadata": {},
   "outputs": [],
   "source": []
  }
 ],
 "metadata": {
  "kernelspec": {
   "display_name": "Python 3",
   "language": "python",
   "name": "python3"
  },
  "language_info": {
   "codemirror_mode": {
    "name": "ipython",
    "version": 3
   },
   "file_extension": ".py",
   "mimetype": "text/x-python",
   "name": "python",
   "nbconvert_exporter": "python",
   "pygments_lexer": "ipython3",
   "version": "3.7.3"
  }
 },
 "nbformat": 4,
 "nbformat_minor": 4
}
