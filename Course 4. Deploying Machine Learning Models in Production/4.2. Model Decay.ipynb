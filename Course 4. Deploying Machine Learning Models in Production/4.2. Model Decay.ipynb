{
 "cells": [
  {
   "cell_type": "markdown",
   "metadata": {},
   "source": [
    "# Week 4. Model Decay\n",
    "---\n",
    "<img src = \"https://i.gyazo.com/ee7468b1efe1e1c6511ac5769e9bf832.png\" width = \"600px\"> \n",
    "<img src = \"https://i.gyazo.com/fa20a998a01beb0de3c8f23d99d0a8e0.png\" width = \"600px\">\n",
    "<img src = \"https://i.gyazo.com/2396e1039f0948abb0e89e08c75be4ec.png\" width = \"600px\">\n",
    "<img src = \"https://i.gyazo.com/780d4b4ef0feeb418a4f4802ffbfca2f.png\" width = \"600px\">"
   ]
  },
  {
   "cell_type": "markdown",
   "metadata": {},
   "source": [
    "Now that you've detected drift, what can you do about it? \n",
    "\n",
    "- Well, first, try to determine which data in your previous training data set is still valid by using unsupervised methods, such as clustering or statistical methods that look at divergence. \n",
    "- Many options exist, including Kullback-Leibler or KL divergence, Jensen-Shannon or JS divergence or the Kolmogorov-Smirnov or K-S test. \n",
    "- This step is optional, but especially when you don't have a lot of new data, it can be important to try to keep as much of your old data as possible.\n",
    "\n",
    "<img src = \"https://i.gyazo.com/55c2cc20280ee228da8b5ecc416ba0bf.png\" width = \"600px\">\n",
    "<img src = \"https://i.gyazo.com/6efcebaece249fd7591d7cc056931e39.png\" width = \"600px\">\n",
    "<img src = \"https://i.gyazo.com/fae76eb954b776b19cf5211bb0ecb59d.png\" width = \"600px\">\n",
    "<img src = \"https://i.gyazo.com/1afa2562d7926c9d876c6a779150f98c.png\" width = \"600px\">\n",
    "<img src = \"https://i.gyazo.com/0db8eceaf482a9417526406a4b7edc59.png\" width = \"600px\">"
   ]
  },
  {
   "cell_type": "code",
   "execution_count": null,
   "metadata": {},
   "outputs": [],
   "source": []
  }
 ],
 "metadata": {
  "kernelspec": {
   "display_name": "Python 3",
   "language": "python",
   "name": "python3"
  },
  "language_info": {
   "codemirror_mode": {
    "name": "ipython",
    "version": 3
   },
   "file_extension": ".py",
   "mimetype": "text/x-python",
   "name": "python",
   "nbconvert_exporter": "python",
   "pygments_lexer": "ipython3",
   "version": "3.7.3"
  }
 },
 "nbformat": 4,
 "nbformat_minor": 4
}
