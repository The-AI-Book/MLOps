{
 "cells": [
  {
   "cell_type": "markdown",
   "metadata": {},
   "source": [
    "# Week 3. Model Managment \n",
    "---\n",
    "\n",
    "<img src = \"https://i.gyazo.com/769dc831c6cf9c692aa0a3d674626466.png\" width = \"600px\">\n",
    "<img src = \"https://i.gyazo.com/4387cd0f1b4a4e70d9192da753e09929.png\" width = \"600px\">\n",
    "<img src = \"https://i.gyazo.com/067b1b9803e78ca601d7f77a679ec32d.png\" width = \"600px\">\n",
    "<img src = \"https://i.gyazo.com/aa4b9f6fba87146545ae6166e1f1bb51.png\" width = \"600px\">\n",
    "<img src = \"https://i.gyazo.com/d91b2c1cc0bafc730128a392c1b02ce8.png\" width = \"600px\">"
   ]
  },
  {
   "cell_type": "code",
   "execution_count": null,
   "metadata": {},
   "outputs": [],
   "source": []
  }
 ],
 "metadata": {
  "kernelspec": {
   "display_name": "Python 3",
   "language": "python",
   "name": "python3"
  },
  "language_info": {
   "codemirror_mode": {
    "name": "ipython",
    "version": 3
   },
   "file_extension": ".py",
   "mimetype": "text/x-python",
   "name": "python",
   "nbconvert_exporter": "python",
   "pygments_lexer": "ipython3",
   "version": "3.7.3"
  }
 },
 "nbformat": 4,
 "nbformat_minor": 4
}
