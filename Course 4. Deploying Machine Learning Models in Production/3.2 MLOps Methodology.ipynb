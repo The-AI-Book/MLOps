{
 "cells": [
  {
   "cell_type": "markdown",
   "metadata": {},
   "source": [
    "# Week 3. MLOps Methodology\n",
    "---\n",
    "\n",
    "## MLOps Levels 0\n",
    "\n",
    "<img src = \"https://i.gyazo.com/f5e65ec8eb15f2e9a2129f7c9e749f11.png\" width = \"600px\">\n",
    "<img src = \"https://i.gyazo.com/baf0dc37e1068c17014602654aba4aae.png\" width = \"600px\">\n",
    "\n",
    "## MLOps Levels 1&2\n",
    "\n",
    "<img src = \"https://i.gyazo.com/fb0320411a0ca214b1866db55ab722bd.png\" width = \"600px\">\n",
    "<img src = \"https://i.gyazo.com/71938b9aaefc9a1c62ada2b009b54a74.png\" width = \"600px\">"
   ]
  },
  {
   "cell_type": "code",
   "execution_count": null,
   "metadata": {},
   "outputs": [],
   "source": []
  }
 ],
 "metadata": {
  "kernelspec": {
   "display_name": "Python 3",
   "language": "python",
   "name": "python3"
  },
  "language_info": {
   "codemirror_mode": {
    "name": "ipython",
    "version": 3
   },
   "file_extension": ".py",
   "mimetype": "text/x-python",
   "name": "python",
   "nbconvert_exporter": "python",
   "pygments_lexer": "ipython3",
   "version": "3.7.3"
  }
 },
 "nbformat": 4,
 "nbformat_minor": 4
}
