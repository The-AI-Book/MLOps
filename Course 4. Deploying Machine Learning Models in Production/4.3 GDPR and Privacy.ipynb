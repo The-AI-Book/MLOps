{
 "cells": [
  {
   "cell_type": "markdown",
   "metadata": {},
   "source": [
    "# Week 4. GDPR and Privacy\n",
    "---\n",
    "<img src = \"https://i.gyazo.com/81fabb931d248673b1449139397c4f16.png\" width = \"600px\">\n",
    "<img src = \"https://i.gyazo.com/7fd1aaf9f8ee2843e9cefc48ab42134a.png\" width = \"600px\">\n",
    "<img src = \"https://i.gyazo.com/043b986585ac29805b197bb001aae2f3.png\" width = \"600px\">\n",
    "<img src = \"https://i.gyazo.com/156655d925cdf50f6cb1a96293fe459a.png\" width = \"600px\">\n",
    "<img src = \"https://i.gyazo.com/b3a2bbf6c960abdc01f4fbe3d126b0b1.png\" width = \"600px\">\n",
    "<img src = \"https://i.gyazo.com/59b6facf2acfa0d8db90291de7c20e84.png\" width = \"600px\"> \n",
    "<img src = \"https://i.gyazo.com/8a88d688682f6d5ab65e6c23c40bc569.png\" width = \"600px\">\n",
    "<img src = \"https://i.gyazo.com/6843e5f67546ddfa76a5a9e7ed6f5bcd.png\" width = \"600px\">\n",
    "<img src = \"https://i.gyazo.com/cbbafe4c8d704891930c1b932d725a94.png\" width = \"600px\">\n",
    "<img src = \"https://i.gyazo.com/6fdb7b5ee3c34b5313000e39b6263f91.png\" width = \"600px\">"
   ]
  },
  {
   "cell_type": "code",
   "execution_count": null,
   "metadata": {},
   "outputs": [],
   "source": []
  }
 ],
 "metadata": {
  "kernelspec": {
   "display_name": "Python 3",
   "language": "python",
   "name": "python3"
  },
  "language_info": {
   "codemirror_mode": {
    "name": "ipython",
    "version": 3
   },
   "file_extension": ".py",
   "mimetype": "text/x-python",
   "name": "python",
   "nbconvert_exporter": "python",
   "pygments_lexer": "ipython3",
   "version": "3.7.3"
  }
 },
 "nbformat": 4,
 "nbformat_minor": 4
}
