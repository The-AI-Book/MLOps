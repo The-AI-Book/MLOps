{
 "cells": [
  {
   "cell_type": "markdown",
   "metadata": {},
   "source": [
    "# Week 1. Introduction to Model Serving Infrastructure\n",
    "---\n",
    "\n",
    "- Optimizing Models for Serving.\n",
    "- Model Complexity affects prediction latency and accuracy\n",
    "- Resource requirements increases along with costs\n",
    "\n",
    "### Balancing Cost and Complexity\n",
    "- The challenge for ML practitioners is to balance complexity and cost\n",
    "\n",
    "### Optimizing and Satisficing Metrics\n",
    "<img src = \"https://i.gyazo.com/f57174268e1238cd33e15f61d48dd90a.png\" width = \"500px\">\n",
    "<img src = \"https://i.gyazo.com/f52a72879be3e77b10c699977a9d7310.png\" width = \"500px\">\n",
    "\n",
    "### Use of Accelerators in Serving INfrastructure\n",
    "<img src = \"https://i.gyazo.com/37fa262ad9a386a25f89a192aab737d5.png\" width = \"500px\">\n",
    "\n",
    "### Maintaining Input Feature Lookup\n",
    "- Prediction request to your ML model might not provide all features required for prediction\n",
    "- For example, estimating how long food delivery will require accessing features from a data store\n",
    "- Additional pre-computed or agreggated features might be read in real-time from a data store\n",
    "- Proviging that data store is a cost\n",
    "\n",
    "<img src = \"https://i.gyazo.com/aefa2a66d8251e3a4ee9241204edbfd0.png\" width = \"500px\">\n",
    "\n",
    "## Model Deployments\n",
    "---\n",
    "- Huge data centers: model efficiency, cost (optiimze resource utilization)\n",
    "- Embedded devices (constrained environment)\n",
    "<img src = \"https://i.gyazo.com/09c1d951e863e19a9e47d3a9a1754d66.png\" width = \"500px\">\n",
    "<img src = \"https://i.gyazo.com/069f59594c3c9f1fe9fa20762a108ee9.png\" width = \"500px\">\n",
    "\n",
    "### Other Strategies\n",
    "<img src = \"https://i.gyazo.com/de04631e8f1b0500b0a75194e21293e4.png\" width = \"500px\">\n",
    "<img src = \"https://i.gyazo.com/fd0c6a0c8b0fdec243b40ac4799f7db9.png\" width = \"500px\">\n",
    "\n",
    "### TensorFlow Serving\n",
    "<img src = \"https://i.gyazo.com/aec42a02800f278cf2dc2ae6c313d2bb.png\" width = \"550px\">\n",
    "\n",
    "<img src = \"https://i.gyazo.com/d86108ece88e26b58bb366f5ace96656.png\" width = \"500px\">"
   ]
  },
  {
   "cell_type": "code",
   "execution_count": null,
   "metadata": {},
   "outputs": [],
   "source": []
  }
 ],
 "metadata": {
  "kernelspec": {
   "display_name": "Python 3",
   "language": "python",
   "name": "python3"
  },
  "language_info": {
   "codemirror_mode": {
    "name": "ipython",
    "version": 3
   },
   "file_extension": ".py",
   "mimetype": "text/x-python",
   "name": "python",
   "nbconvert_exporter": "python",
   "pygments_lexer": "ipython3",
   "version": "3.7.3"
  }
 },
 "nbformat": 4,
 "nbformat_minor": 4
}
