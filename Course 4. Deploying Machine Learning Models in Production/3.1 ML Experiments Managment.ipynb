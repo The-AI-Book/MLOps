{
 "cells": [
  {
   "cell_type": "markdown",
   "metadata": {},
   "source": [
    "# Week 3. ML Experiments Managment\n",
    "---\n",
    "\n",
    "## Experiment Tracking\n",
    "\n",
    "<img src = \"https://i.gyazo.com/d9bdd954a06dc1606965cf00f6eb206d.png\" width = \"600px\">\n",
    "<img src = \"https://i.gyazo.com/bac0d57c5d2ba532ed6a3fc495f209da.png\" width = \"600px\">\n",
    "<img src = \"https://i.gyazo.com/0c5ac048f01a382ebf2afd54e09b4896.png\" width = \"600px\">\n",
    "<img src = \"https://i.gyazo.com/523c54339fe53aaebd0bacfbbc659a69.png\" width = \"600px\">\n",
    "<img src = \"https://i.gyazo.com/910865e29237ef6b55c3c9a166572e74.png\" width = \"600px\">\n",
    "<img src = \"https://i.gyazo.com/f724c4c4e89cd942213f6fbc5a85a67c.png\" width = \"600px\">\n",
    "<img src = \"https://i.gyazo.com/580186b03b8a4a53553708bee735a894.png\" width = \"600px\">\n",
    "\n",
    "## Data Versioning\n",
    "\n",
    "<img src = \"https://i.gyazo.com/a5f3ed3bd8f1635be19f64ca39d63060.png\" width = \"600px\">\n",
    "<img src = \"https://i.gyazo.com/5d063ac714d9d0a5e4db907be4f44734.png\" width = \"600px\">\n",
    "<img src = \"https://i.gyazo.com/57d428d1a8a30bbe7ee78d59721e1b60.png\" width = \"600px\">\n",
    "<img src = \"https://i.gyazo.com/b8a237671ecbd3b2508fbbf7a3082507.png\" width = \"600px\">\n",
    "<img src = \"https://i.gyazo.com/bf601c03947fd2a412fc5db61a3b61d1.png\" width = \"600px\">\n",
    "<img src = \"https://i.gyazo.com/c28a2eb849858270bf03b207a3efc0e2.png\" width = \"600px\">\n",
    "<img src = \"https://i.gyazo.com/57102f7a36c4a1bdc5794e77d997fafa.png\" width = \"600px\">\n",
    "\n",
    "\n",
    "# Introduction to MLOps\n",
    "\n",
    "<img src = \"https://i.gyazo.com/daceac28dd7454da3bb8786a23c605b1.png\" width = \"600px\">\n",
    "<img src = \"https://i.gyazo.com/0ccc321bf2d6fe38804517f093225ad4.png\" width = \"600px\">\n",
    "<img src = \"https://i.gyazo.com/01690e57535745d9cf7d89c6e9af1023.png\" width = \"600px\">\n",
    "<img src = \"https://i.gyazo.com/d276c4c7a8992ecfeb5ccf8e0f9ed792.png\" width = \"600px\">\n",
    "<img src = \"https://i.gyazo.com/e02e85b0133d5171d1132f200cc4fd71.png\" width = \"600px\">\n",
    "<img src = \"https://i.gyazo.com/573ca1ac3cdcf9e2fae06aa0b34f2448.png\" width = \"600px\">\n",
    "\n"
   ]
  },
  {
   "cell_type": "code",
   "execution_count": null,
   "metadata": {},
   "outputs": [],
   "source": []
  }
 ],
 "metadata": {
  "kernelspec": {
   "display_name": "Python 3",
   "language": "python",
   "name": "python3"
  },
  "language_info": {
   "codemirror_mode": {
    "name": "ipython",
    "version": 3
   },
   "file_extension": ".py",
   "mimetype": "text/x-python",
   "name": "python",
   "nbconvert_exporter": "python",
   "pygments_lexer": "ipython3",
   "version": "3.7.3"
  }
 },
 "nbformat": 4,
 "nbformat_minor": 4
}
