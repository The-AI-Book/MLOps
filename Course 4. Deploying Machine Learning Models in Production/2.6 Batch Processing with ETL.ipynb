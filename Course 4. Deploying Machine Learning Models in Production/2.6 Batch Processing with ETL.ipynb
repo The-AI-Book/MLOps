{
 "cells": [
  {
   "cell_type": "markdown",
   "metadata": {},
   "source": [
    "# Week 2. Batch Processing with ETL\n",
    "---\n",
    "<img src = \"https://i.gyazo.com/63597cf78decb8f3600863a1d1dc61ac.png\" width = \"600px\">\n",
    "<img src = \"https://i.gyazo.com/7c8a2ae61aea0d750cbf8cbeea43ef4c.png\" width = \"600px\">\n",
    "<img src = \"https://i.gyazo.com/05349584dab217650930e1ba8afa4d8a.png\" width = \"600px\">\n",
    "<img src = \"https://i.gyazo.com/22ecba484d08a7fd7fd16f1fd8bcc355.png\" width = \"600px\">\n",
    "<img src = \"https://i.gyazo.com/99efb3229344e106492a7d0ab8e2eaaf.png\" width = \"600px\">\n",
    "<img src = \"https://i.gyazo.com/f430a500e017220e438419d735b9c183.png\" width = \"600px\">"
   ]
  },
  {
   "cell_type": "code",
   "execution_count": null,
   "metadata": {},
   "outputs": [],
   "source": []
  }
 ],
 "metadata": {
  "kernelspec": {
   "display_name": "Python 3",
   "language": "python",
   "name": "python3"
  },
  "language_info": {
   "codemirror_mode": {
    "name": "ipython",
    "version": 3
   },
   "file_extension": ".py",
   "mimetype": "text/x-python",
   "name": "python",
   "nbconvert_exporter": "python",
   "pygments_lexer": "ipython3",
   "version": "3.7.3"
  }
 },
 "nbformat": 4,
 "nbformat_minor": 4
}
